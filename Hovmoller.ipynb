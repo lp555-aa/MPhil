{
 "cells": [
  {
   "cell_type": "code",
   "execution_count": 9,
   "metadata": {},
   "outputs": [],
   "source": [
    "import numpy as np\n",
    "import netCDF4 as nc\n",
    "import pandas as pd\n",
    "import matplotlib.pyplot as plt\n",
    "import xarray as xr\n",
    "import cartopy.crs as ccrs\n",
    "import cartopy.feature as cfeature\n",
    "import matplotlib.gridspec as gridspec\n",
    "import metpy.calc as mpcalc"
   ]
  },
  {
   "cell_type": "code",
   "execution_count": 16,
   "metadata": {},
   "outputs": [],
   "source": [
    "ozone_data = '/shared/netscratch/nla27/ACSIS/flights/ATom1/ncdf/m01s34i001_bb901.nc'\n",
    "fh = nc.Dataset(ozone_data)"
   ]
  },
  {
   "cell_type": "code",
   "execution_count": 17,
   "metadata": {},
   "outputs": [
    {
     "name": "stdout",
     "output_type": "stream",
     "text": [
      "<class 'netCDF4._netCDF4.Dataset'>\n",
      "root group (NETCDF4_CLASSIC data model, file format HDF5):\n",
      "    source: Data from Met Office Unified Model\n",
      "    um_version: 10.6\n",
      "    Conventions: CF-1.5\n",
      "    dimensions(sizes): time(623), model_level_number(35), latitude(144), longitude(192), bnds(2)\n",
      "    variables(dimensions): float32 \u001b[4mmass_fraction_of_ozone_in_air\u001b[0m(time,model_level_number,latitude,longitude), int32 \u001b[4mlatitude_longitude\u001b[0m(), float64 \u001b[4mtime\u001b[0m(time), int32 \u001b[4mmodel_level_number\u001b[0m(model_level_number), float32 \u001b[4mlatitude\u001b[0m(latitude), float32 \u001b[4mlongitude\u001b[0m(longitude), float64 \u001b[4mforecast_period\u001b[0m(time), float64 \u001b[4mforecast_reference_time\u001b[0m(), float32 \u001b[4mlevel_height\u001b[0m(model_level_number), float32 \u001b[4mlevel_height_bnds\u001b[0m(model_level_number,bnds), float32 \u001b[4msigma\u001b[0m(model_level_number), float32 \u001b[4msigma_bnds\u001b[0m(model_level_number,bnds)\n",
      "    groups: \n",
      "\n"
     ]
    }
   ],
   "source": [
    "print(fh)"
   ]
  },
  {
   "cell_type": "code",
   "execution_count": 18,
   "metadata": {},
   "outputs": [],
   "source": [
    "lats = fh.variables['latitude'][:]\n",
    "lons = fh.variables['longitude'][:]\n",
    "t = fh.variables['time']\n",
    "mln = fh.variables['model_level_number']\n",
    "ozone = fh.variables['mass_fraction_of_ozone_in_air']"
   ]
  },
  {
   "cell_type": "code",
   "execution_count": null,
   "metadata": {},
   "outputs": [],
   "source": []
  }
 ],
 "metadata": {
  "kernelspec": {
   "display_name": "Python 3",
   "language": "python",
   "name": "python3"
  },
  "language_info": {
   "codemirror_mode": {
    "name": "ipython",
    "version": 3
   },
   "file_extension": ".py",
   "mimetype": "text/x-python",
   "name": "python",
   "nbconvert_exporter": "python",
   "pygments_lexer": "ipython3",
   "version": "3.7.3"
  }
 },
 "nbformat": 4,
 "nbformat_minor": 2
}
