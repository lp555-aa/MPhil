{
 "cells": [
  {
   "cell_type": "code",
   "execution_count": 1,
   "metadata": {},
   "outputs": [],
   "source": [
    "import cf\n",
    "import cfplot as cfp"
   ]
  },
  {
   "cell_type": "markdown",
   "metadata": {},
   "source": [
    "# cf-python"
   ]
  },
  {
   "cell_type": "code",
   "execution_count": 2,
   "metadata": {},
   "outputs": [
    {
     "name": "stdout",
     "output_type": "stream",
     "text": [
      "[<CF Field: mass_fraction_of_ozone_in_air(time(623), model_level_number(35), latitude(144), longitude(192)) kg kg-1>]\n"
     ]
    }
   ],
   "source": [
    "#cf.read returns the contents in a cf.Fieldlist instance - elements/variables\n",
    "ozone_data = cf.read('/shared/netscratch/nla27/ACSIS/flights/ATom1/ncdf/m01s34i001_bb901.nc')\n",
    "print(ozone_data)"
   ]
  },
  {
   "cell_type": "code",
   "execution_count": 3,
   "metadata": {},
   "outputs": [
    {
     "data": {
      "text/plain": [
       "'1.7'"
      ]
     },
     "execution_count": 3,
     "metadata": {},
     "output_type": "execute_result"
    }
   ],
   "source": [
    "#version of cf-python\n",
    "cf.CF()"
   ]
  },
  {
   "cell_type": "code",
   "execution_count": 4,
   "metadata": {},
   "outputs": [
    {
     "data": {
      "text/plain": [
       "cf.fieldlist.FieldList"
      ]
     },
     "execution_count": 4,
     "metadata": {},
     "output_type": "execute_result"
    }
   ],
   "source": [
    "type(ozone_data)"
   ]
  },
  {
   "cell_type": "code",
   "execution_count": 5,
   "metadata": {},
   "outputs": [
    {
     "data": {
      "text/plain": [
       "1"
      ]
     },
     "execution_count": 5,
     "metadata": {},
     "output_type": "execute_result"
    }
   ],
   "source": [
    "#this is an one element field list\n",
    "len(ozone_data)"
   ]
  },
  {
   "cell_type": "markdown",
   "metadata": {},
   "source": [
    "### Can read more than one file at a time, even the whole folder, but need to ignore the errors"
   ]
  },
  {
   "cell_type": "code",
   "execution_count": 6,
   "metadata": {},
   "outputs": [
    {
     "data": {
      "text/plain": [
       "<CF Field: mass_fraction_of_ozone_in_air(time(623), model_level_number(35), latitude(144), longitude(192)) kg kg-1>"
      ]
     },
     "execution_count": 6,
     "metadata": {},
     "output_type": "execute_result"
    }
   ],
   "source": [
    "#minimal details\n",
    "a = ozone_data [0]\n",
    "a"
   ]
  },
  {
   "cell_type": "code",
   "execution_count": 7,
   "metadata": {},
   "outputs": [
    {
     "name": "stdout",
     "output_type": "stream",
     "text": [
      "Field: mass_fraction_of_ozone_in_air (ncvar%mass_fraction_of_ozone_in_air)\n",
      "--------------------------------------------------------------------------\n",
      "Data            : mass_fraction_of_ozone_in_air(time(623), model_level_number(35), latitude(144), longitude(192)) kg kg-1\n",
      "Dimension coords: time(623) = [2016-07-28 01:00:00, ..., 2016-08-22 23:00:00] gregorian\n",
      "                : model_level_number(35) = [1, ..., 35] 1\n",
      "                : latitude(144) = [-89.375, ..., 89.375] degrees_north\n",
      "                : longitude(192) = [0.9375, ..., 359.0625] degrees_east\n",
      "                : forecast_reference_time(1) = [1950-09-01 00:00:00] gregorian\n",
      "Auxiliary coords: forecast_period(time(623)) = [577729.0, ..., 578351.0] hours\n",
      "                : long_name=level_height(model_level_number(35)) = [19.999998092651367, ..., 8633.33984375] m\n",
      "                : long_name=sigma(model_level_number(35)) = [0.9977412819862366, ..., 0.2623651325702667] 1\n",
      "Coord references: grid_mapping_name:latitude_longitude\n",
      "\n"
     ]
    }
   ],
   "source": [
    "#medium details\n",
    "print(a)"
   ]
  },
  {
   "cell_type": "code",
   "execution_count": 8,
   "metadata": {},
   "outputs": [
    {
     "name": "stdout",
     "output_type": "stream",
     "text": [
      "--------------------------------------------------------------------------\n",
      "Field: mass_fraction_of_ozone_in_air (ncvar%mass_fraction_of_ozone_in_air)\n",
      "--------------------------------------------------------------------------\n",
      "Conventions = 'CF-1.5'\n",
      "source = 'Data from Met Office Unified Model'\n",
      "standard_name = 'mass_fraction_of_ozone_in_air'\n",
      "um_stash_source = 'm01s34i001'\n",
      "um_version = '10.6'\n",
      "units = 'kg kg-1'\n",
      "\n",
      "Data(time(623), model_level_number(35), latitude(144), longitude(192)) = [[[[3.870994902399616e-08, ..., 4.186185549315269e-07]]]] kg kg-1\n",
      "\n",
      "Domain Axis: forecast_reference_time(1)\n",
      "Domain Axis: latitude(144)\n",
      "Domain Axis: longitude(192)\n",
      "Domain Axis: model_level_number(35)\n",
      "Domain Axis: time(623)\n",
      "\n",
      "Dimension coordinate: time\n",
      "    axis = 'T'\n",
      "    calendar = 'gregorian'\n",
      "    standard_name = 'time'\n",
      "    units = 'hours since 1970-01-01 00:00:00'\n",
      "    Data(time(623)) = [2016-07-28 01:00:00, ..., 2016-08-22 23:00:00] gregorian\n",
      "\n",
      "Dimension coordinate: model_level_number\n",
      "    axis = 'Z'\n",
      "    positive = 'up'\n",
      "    standard_name = 'model_level_number'\n",
      "    units = '1'\n",
      "    Data(model_level_number(35)) = [1, ..., 35] 1\n",
      "\n",
      "Dimension coordinate: latitude\n",
      "    axis = 'Y'\n",
      "    standard_name = 'latitude'\n",
      "    units = 'degrees_north'\n",
      "    Data(latitude(144)) = [-89.375, ..., 89.375] degrees_north\n",
      "\n",
      "Dimension coordinate: longitude\n",
      "    axis = 'X'\n",
      "    standard_name = 'longitude'\n",
      "    units = 'degrees_east'\n",
      "    Data(longitude(192)) = [0.9375, ..., 359.0625] degrees_east\n",
      "\n",
      "Dimension coordinate: forecast_reference_time\n",
      "    calendar = 'gregorian'\n",
      "    standard_name = 'forecast_reference_time'\n",
      "    units = 'hours since 1970-01-01 00:00:00'\n",
      "    Data(forecast_reference_time(1)) = [1950-09-01 00:00:00] gregorian\n",
      "\n",
      "Auxiliary coordinate: forecast_period\n",
      "    standard_name = 'forecast_period'\n",
      "    units = 'hours'\n",
      "    Data(time(623)) = [577729.0, ..., 578351.0] hours\n",
      "\n",
      "Auxiliary coordinate: long_name=level_height\n",
      "    long_name = 'level_height'\n",
      "    positive = 'up'\n",
      "    units = 'm'\n",
      "    Data(model_level_number(35)) = [19.999998092651367, ..., 8633.33984375] m\n",
      "    Bounds:units = 'm'\n",
      "    Bounds:Data(model_level_number(35), 2) = [[0.0, ..., 8876.6689453125]] m\n",
      "\n",
      "Auxiliary coordinate: long_name=sigma\n",
      "    long_name = 'sigma'\n",
      "    units = '1'\n",
      "    Data(model_level_number(35)) = [0.9977412819862366, ..., 0.2623651325702667] 1\n",
      "    Bounds:units = '1'\n",
      "    Bounds:Data(model_level_number(35), 2) = [[1.0, ..., 0.24847011268138885]] 1\n",
      "\n",
      "Coordinate reference: grid_mapping_name:latitude_longitude\n",
      "    Coordinate conversion:grid_mapping_name = latitude_longitude\n",
      "    Datum:earth_radius = 6371229.0\n",
      "    Datum:longitude_of_prime_meridian = 0.0\n",
      "    Dimension Coordinate: longitude\n",
      "    Dimension Coordinate: latitude\n",
      "\n"
     ]
    }
   ],
   "source": [
    "#full details\n",
    "ozone_data[0].dump()"
   ]
  },
  {
   "cell_type": "code",
   "execution_count": 9,
   "metadata": {},
   "outputs": [
    {
     "data": {
      "text/plain": [
       "{'source': 'Data from Met Office Unified Model',\n",
       " 'um_version': '10.6',\n",
       " 'Conventions': 'CF-1.5',\n",
       " 'standard_name': 'mass_fraction_of_ozone_in_air',\n",
       " 'units': 'kg kg-1',\n",
       " 'um_stash_source': 'm01s34i001'}"
      ]
     },
     "execution_count": 9,
     "metadata": {},
     "output_type": "execute_result"
    }
   ],
   "source": [
    "#retrieve descriptive properties\n",
    "ozone_data[0].properties()"
   ]
  },
  {
   "cell_type": "code",
   "execution_count": 10,
   "metadata": {},
   "outputs": [
    {
     "data": {
      "text/plain": [
       "'mass_fraction_of_ozone_in_air'"
      ]
     },
     "execution_count": 10,
     "metadata": {},
     "output_type": "execute_result"
    }
   ],
   "source": [
    "#get a canonical identity\n",
    "a.identity()"
   ]
  },
  {
   "cell_type": "code",
   "execution_count": 11,
   "metadata": {},
   "outputs": [
    {
     "data": {
      "text/plain": [
       "['mass_fraction_of_ozone_in_air',\n",
       " 'Conventions=CF-1.5',\n",
       " 'source=Data from Met Office Unified Model',\n",
       " 'um_stash_source=m01s34i001',\n",
       " 'um_version=10.6',\n",
       " 'units=kg kg-1',\n",
       " 'standard_name=mass_fraction_of_ozone_in_air',\n",
       " 'ncvar%mass_fraction_of_ozone_in_air']"
      ]
     },
     "execution_count": 11,
     "metadata": {},
     "output_type": "execute_result"
    }
   ],
   "source": [
    "a.identities()"
   ]
  },
  {
   "cell_type": "markdown",
   "metadata": {},
   "source": [
    "### metadata constructs and corresponding cf class - see tutorial ; irrelavant here?"
   ]
  },
  {
   "cell_type": "code",
   "execution_count": 12,
   "metadata": {},
   "outputs": [
    {
     "name": "stdout",
     "output_type": "stream",
     "text": [
      "Constructs:\n",
      "{'auxiliarycoordinate0': <CF AuxiliaryCoordinate: forecast_period(623) hours>,\n",
      " 'auxiliarycoordinate1': <CF AuxiliaryCoordinate: long_name=level_height(35) m>,\n",
      " 'auxiliarycoordinate2': <CF AuxiliaryCoordinate: long_name=sigma(35) 1>,\n",
      " 'coordinatereference0': <CF CoordinateReference: grid_mapping_name:latitude_longitude>,\n",
      " 'dimensioncoordinate0': <CF DimensionCoordinate: time(623) hours since 1970-01-01 00:00:00 gregorian>,\n",
      " 'dimensioncoordinate1': <CF DimensionCoordinate: model_level_number(35) 1>,\n",
      " 'dimensioncoordinate2': <CF DimensionCoordinate: latitude(144) degrees_north>,\n",
      " 'dimensioncoordinate3': <CF DimensionCoordinate: longitude(192) degrees_east>,\n",
      " 'dimensioncoordinate4': <CF DimensionCoordinate: forecast_reference_time(1) hours since 1970-01-01 00:00:00 gregorian>,\n",
      " 'domainaxis0': <CF DomainAxis: size(623)>,\n",
      " 'domainaxis1': <CF DomainAxis: size(35)>,\n",
      " 'domainaxis2': <CF DomainAxis: size(144)>,\n",
      " 'domainaxis3': <CF DomainAxis: size(192)>,\n",
      " 'domainaxis4': <CF DomainAxis: size(1)>}\n"
     ]
    }
   ],
   "source": [
    "#retrieve all of the field construct's metadata constructs\n",
    "a.constructs\n",
    "print(a.constructs)"
   ]
  },
  {
   "cell_type": "markdown",
   "metadata": {},
   "source": [
    "## Full tutorial: https://ncas-cms.github.io/cf-python/tutorial.html#"
   ]
  },
  {
   "cell_type": "markdown",
   "metadata": {},
   "source": [
    "# cf-plot"
   ]
  },
  {
   "cell_type": "code",
   "execution_count": 13,
   "metadata": {},
   "outputs": [
    {
     "name": "stdout",
     "output_type": "stream",
     "text": [
      "Field: mass_fraction_of_ozone_in_air (ncvar%mass_fraction_of_ozone_in_air)\n",
      "--------------------------------------------------------------------------\n",
      "Data            : mass_fraction_of_ozone_in_air(time(623), model_level_number(35), latitude(144), longitude(192)) kg kg-1\n",
      "Dimension coords: time(623) = [2016-07-28 01:00:00, ..., 2016-08-22 23:00:00] gregorian\n",
      "                : model_level_number(35) = [1, ..., 35] 1\n",
      "                : latitude(144) = [-89.375, ..., 89.375] degrees_north\n",
      "                : longitude(192) = [0.9375, ..., 359.0625] degrees_east\n",
      "                : forecast_reference_time(1) = [1950-09-01 00:00:00] gregorian\n",
      "Auxiliary coords: forecast_period(time(623)) = [577729.0, ..., 578351.0] hours\n",
      "                : long_name=level_height(model_level_number(35)) = [19.999998092651367, ..., 8633.33984375] m\n",
      "                : long_name=sigma(model_level_number(35)) = [0.9977412819862366, ..., 0.2623651325702667] 1\n",
      "Coord references: grid_mapping_name:latitude_longitude\n",
      "\n"
     ]
    }
   ],
   "source": [
    "print(a)"
   ]
  },
  {
   "cell_type": "code",
   "execution_count": 1,
   "metadata": {},
   "outputs": [],
   "source": [
    "import numpy as np\n",
    "import pandas as pd\n",
    "import netCDF4 as nc\n",
    "import matplotlib.pyplot as plt\n",
    "import xarray as xr"
   ]
  },
  {
   "cell_type": "code",
   "execution_count": 2,
   "metadata": {},
   "outputs": [
    {
     "name": "stdout",
     "output_type": "stream",
     "text": [
      "<class 'netCDF4._netCDF4.Dataset'>\n",
      "root group (NETCDF4_CLASSIC data model, file format HDF5):\n",
      "    source: Data from Met Office Unified Model\n",
      "    um_version: 10.6\n",
      "    Conventions: CF-1.5\n",
      "    dimensions(sizes): time(623), model_level_number(35), latitude(144), longitude(192), bnds(2)\n",
      "    variables(dimensions): float32 \u001b[4mmass_fraction_of_ozone_in_air\u001b[0m(time,model_level_number,latitude,longitude), int32 \u001b[4mlatitude_longitude\u001b[0m(), float64 \u001b[4mtime\u001b[0m(time), int32 \u001b[4mmodel_level_number\u001b[0m(model_level_number), float32 \u001b[4mlatitude\u001b[0m(latitude), float32 \u001b[4mlongitude\u001b[0m(longitude), float64 \u001b[4mforecast_period\u001b[0m(time), float64 \u001b[4mforecast_reference_time\u001b[0m(), float32 \u001b[4mlevel_height\u001b[0m(model_level_number), float32 \u001b[4mlevel_height_bnds\u001b[0m(model_level_number,bnds), float32 \u001b[4msigma\u001b[0m(model_level_number), float32 \u001b[4msigma_bnds\u001b[0m(model_level_number,bnds)\n",
      "    groups: \n",
      "\n"
     ]
    }
   ],
   "source": [
    "ozone_data2 = nc.Dataset(\"/shared/netscratch/nla27/ACSIS/flights/ATom1/ncdf/m01s34i001_bb901.nc\")\n",
    "print(ozone_data2)"
   ]
  },
  {
   "cell_type": "code",
   "execution_count": 3,
   "metadata": {},
   "outputs": [
    {
     "ename": "NameError",
     "evalue": "name 'cfp' is not defined",
     "output_type": "error",
     "traceback": [
      "\u001b[0;31m---------------------------------------------------------------------------\u001b[0m",
      "\u001b[0;31mNameError\u001b[0m                                 Traceback (most recent call last)",
      "\u001b[0;32m<ipython-input-3-238ad3c271de>\u001b[0m in \u001b[0;36m<module>\u001b[0;34m\u001b[0m\n\u001b[1;32m      3\u001b[0m \u001b[0mmass_frac\u001b[0m \u001b[0;34m=\u001b[0m \u001b[0mozone_data2\u001b[0m\u001b[0;34m.\u001b[0m\u001b[0mvariables\u001b[0m\u001b[0;34m[\u001b[0m\u001b[0;34m'mass_fraction_of_ozone_in_air'\u001b[0m\u001b[0;34m]\u001b[0m\u001b[0;34m[\u001b[0m\u001b[0;36m0\u001b[0m\u001b[0;34m,\u001b[0m\u001b[0;36m0\u001b[0m\u001b[0;34m,\u001b[0m\u001b[0;34m:\u001b[0m\u001b[0;34m,\u001b[0m\u001b[0;34m:\u001b[0m\u001b[0;34m]\u001b[0m\u001b[0;34m\u001b[0m\u001b[0;34m\u001b[0m\u001b[0m\n\u001b[1;32m      4\u001b[0m \u001b[0mmln\u001b[0m \u001b[0;34m=\u001b[0m \u001b[0mozone_data2\u001b[0m\u001b[0;34m.\u001b[0m\u001b[0mvariables\u001b[0m\u001b[0;34m[\u001b[0m\u001b[0;34m'model_level_number'\u001b[0m\u001b[0;34m]\u001b[0m\u001b[0;34m\u001b[0m\u001b[0;34m\u001b[0m\u001b[0m\n\u001b[0;32m----> 5\u001b[0;31m \u001b[0mcfp\u001b[0m\u001b[0;34m.\u001b[0m\u001b[0mcscale\u001b[0m\u001b[0;34m(\u001b[0m\u001b[0;34m'viridis'\u001b[0m\u001b[0;34m)\u001b[0m\u001b[0;34m\u001b[0m\u001b[0;34m\u001b[0m\u001b[0m\n\u001b[0m\u001b[1;32m      6\u001b[0m \u001b[0mcfp\u001b[0m\u001b[0;34m.\u001b[0m\u001b[0mcon\u001b[0m\u001b[0;34m(\u001b[0m\u001b[0mf\u001b[0m\u001b[0;34m=\u001b[0m\u001b[0mmass_frac\u001b[0m\u001b[0;34m*\u001b[0m\u001b[0;36m10\u001b[0m\u001b[0;34m**\u001b[0m\u001b[0;36m9\u001b[0m\u001b[0;34m,\u001b[0m \u001b[0mx\u001b[0m\u001b[0;34m=\u001b[0m\u001b[0mlons\u001b[0m\u001b[0;34m,\u001b[0m \u001b[0my\u001b[0m\u001b[0;34m=\u001b[0m\u001b[0mlats\u001b[0m\u001b[0;34m,\u001b[0m \u001b[0mptype\u001b[0m \u001b[0;34m=\u001b[0m \u001b[0;36m1\u001b[0m\u001b[0;34m)\u001b[0m\u001b[0;34m\u001b[0m\u001b[0;34m\u001b[0m\u001b[0m\n",
      "\u001b[0;31mNameError\u001b[0m: name 'cfp' is not defined"
     ]
    }
   ],
   "source": [
    "lons = ozone_data2.variables['longitude'][:]\n",
    "lats = ozone_data2.variables['latitude'][:]\n",
    "mass_frac = ozone_data2.variables['mass_fraction_of_ozone_in_air'][0,0,:,:]\n",
    "mln = ozone_data2.variables['model_level_number']\n",
    "cfp.cscale('viridis')\n",
    "cfp.con(f=mass_frac*10**9, x=lons, y=lats, ptype = 1)"
   ]
  },
  {
   "cell_type": "code",
   "execution_count": 4,
   "metadata": {},
   "outputs": [
    {
     "data": {
      "text/plain": [
       "masked_array(data=[  0.9375,   2.8125,   4.6875,   6.5625,   8.4375,\n",
       "                    10.3125,  12.1875,  14.0625,  15.9375,  17.8125,\n",
       "                    19.6875,  21.5625,  23.4375,  25.3125,  27.1875,\n",
       "                    29.0625,  30.9375,  32.8125,  34.6875,  36.5625,\n",
       "                    38.4375,  40.3125,  42.1875,  44.0625,  45.9375,\n",
       "                    47.8125,  49.6875,  51.5625,  53.4375,  55.3125,\n",
       "                    57.1875,  59.0625,  60.9375,  62.8125,  64.6875,\n",
       "                    66.5625,  68.4375,  70.3125,  72.1875,  74.0625,\n",
       "                    75.9375,  77.8125,  79.6875,  81.5625,  83.4375,\n",
       "                    85.3125,  87.1875,  89.0625,  90.9375,  92.8125,\n",
       "                    94.6875,  96.5625,  98.4375, 100.3125, 102.1875,\n",
       "                   104.0625, 105.9375, 107.8125, 109.6875, 111.5625,\n",
       "                   113.4375, 115.3125, 117.1875, 119.0625, 120.9375,\n",
       "                   122.8125, 124.6875, 126.5625, 128.4375, 130.3125,\n",
       "                   132.1875, 134.0625, 135.9375, 137.8125, 139.6875,\n",
       "                   141.5625, 143.4375, 145.3125, 147.1875, 149.0625,\n",
       "                   150.9375, 152.8125, 154.6875, 156.5625, 158.4375,\n",
       "                   160.3125, 162.1875, 164.0625, 165.9375, 167.8125,\n",
       "                   169.6875, 171.5625, 173.4375, 175.3125, 177.1875,\n",
       "                   179.0625, 180.9375, 182.8125, 184.6875, 186.5625,\n",
       "                   188.4375, 190.3125, 192.1875, 194.0625, 195.9375,\n",
       "                   197.8125, 199.6875, 201.5625, 203.4375, 205.3125,\n",
       "                   207.1875, 209.0625, 210.9375, 212.8125, 214.6875,\n",
       "                   216.5625, 218.4375, 220.3125, 222.1875, 224.0625,\n",
       "                   225.9375, 227.8125, 229.6875, 231.5625, 233.4375,\n",
       "                   235.3125, 237.1875, 239.0625, 240.9375, 242.8125,\n",
       "                   244.6875, 246.5625, 248.4375, 250.3125, 252.1875,\n",
       "                   254.0625, 255.9375, 257.8125, 259.6875, 261.5625,\n",
       "                   263.4375, 265.3125, 267.1875, 269.0625, 270.9375,\n",
       "                   272.8125, 274.6875, 276.5625, 278.4375, 280.3125,\n",
       "                   282.1875, 284.0625, 285.9375, 287.8125, 289.6875,\n",
       "                   291.5625, 293.4375, 295.3125, 297.1875, 299.0625,\n",
       "                   300.9375, 302.8125, 304.6875, 306.5625, 308.4375,\n",
       "                   310.3125, 312.1875, 314.0625, 315.9375, 317.8125,\n",
       "                   319.6875, 321.5625, 323.4375, 325.3125, 327.1875,\n",
       "                   329.0625, 330.9375, 332.8125, 334.6875, 336.5625,\n",
       "                   338.4375, 340.3125, 342.1875, 344.0625, 345.9375,\n",
       "                   347.8125, 349.6875, 351.5625, 353.4375, 355.3125,\n",
       "                   357.1875, 359.0625],\n",
       "             mask=False,\n",
       "       fill_value=1e+20,\n",
       "            dtype=float32)"
      ]
     },
     "execution_count": 4,
     "metadata": {},
     "output_type": "execute_result"
    }
   ],
   "source": [
    "lons"
   ]
  },
  {
   "cell_type": "code",
   "execution_count": 5,
   "metadata": {},
   "outputs": [
    {
     "data": {
      "text/plain": [
       "masked_array(data=[-89.375, -88.125, -86.875, -85.625, -84.375, -83.125,\n",
       "                   -81.875, -80.625, -79.375, -78.125, -76.875, -75.625,\n",
       "                   -74.375, -73.125, -71.875, -70.625, -69.375, -68.125,\n",
       "                   -66.875, -65.625, -64.375, -63.125, -61.875, -60.625,\n",
       "                   -59.375, -58.125, -56.875, -55.625, -54.375, -53.125,\n",
       "                   -51.875, -50.625, -49.375, -48.125, -46.875, -45.625,\n",
       "                   -44.375, -43.125, -41.875, -40.625, -39.375, -38.125,\n",
       "                   -36.875, -35.625, -34.375, -33.125, -31.875, -30.625,\n",
       "                   -29.375, -28.125, -26.875, -25.625, -24.375, -23.125,\n",
       "                   -21.875, -20.625, -19.375, -18.125, -16.875, -15.625,\n",
       "                   -14.375, -13.125, -11.875, -10.625,  -9.375,  -8.125,\n",
       "                    -6.875,  -5.625,  -4.375,  -3.125,  -1.875,  -0.625,\n",
       "                     0.625,   1.875,   3.125,   4.375,   5.625,   6.875,\n",
       "                     8.125,   9.375,  10.625,  11.875,  13.125,  14.375,\n",
       "                    15.625,  16.875,  18.125,  19.375,  20.625,  21.875,\n",
       "                    23.125,  24.375,  25.625,  26.875,  28.125,  29.375,\n",
       "                    30.625,  31.875,  33.125,  34.375,  35.625,  36.875,\n",
       "                    38.125,  39.375,  40.625,  41.875,  43.125,  44.375,\n",
       "                    45.625,  46.875,  48.125,  49.375,  50.625,  51.875,\n",
       "                    53.125,  54.375,  55.625,  56.875,  58.125,  59.375,\n",
       "                    60.625,  61.875,  63.125,  64.375,  65.625,  66.875,\n",
       "                    68.125,  69.375,  70.625,  71.875,  73.125,  74.375,\n",
       "                    75.625,  76.875,  78.125,  79.375,  80.625,  81.875,\n",
       "                    83.125,  84.375,  85.625,  86.875,  88.125,  89.375],\n",
       "             mask=False,\n",
       "       fill_value=1e+20,\n",
       "            dtype=float32)"
      ]
     },
     "execution_count": 5,
     "metadata": {},
     "output_type": "execute_result"
    }
   ],
   "source": [
    "lats"
   ]
  },
  {
   "cell_type": "markdown",
   "metadata": {},
   "source": [
    "# Time series"
   ]
  },
  {
   "cell_type": "markdown",
   "metadata": {},
   "source": [
    "## Beijing"
   ]
  },
  {
   "cell_type": "code",
   "execution_count": 6,
   "metadata": {},
   "outputs": [],
   "source": [
    "# desired station time series location\n",
    "loni = 116.4074\n",
    "lati = 39.9042"
   ]
  },
  {
   "cell_type": "code",
   "execution_count": 7,
   "metadata": {},
   "outputs": [
    {
     "data": {
      "text/plain": [
       "array([datetime.datetime(2016, 7, 28, 1, 0),\n",
       "       datetime.datetime(2016, 7, 28, 2, 0),\n",
       "       datetime.datetime(2016, 7, 28, 3, 0),\n",
       "       datetime.datetime(2016, 7, 28, 4, 0),\n",
       "       datetime.datetime(2016, 7, 28, 5, 0),\n",
       "       datetime.datetime(2016, 7, 28, 6, 0),\n",
       "       datetime.datetime(2016, 7, 28, 7, 0),\n",
       "       datetime.datetime(2016, 7, 28, 8, 0),\n",
       "       datetime.datetime(2016, 7, 28, 9, 0),\n",
       "       datetime.datetime(2016, 7, 28, 10, 0),\n",
       "       datetime.datetime(2016, 7, 28, 11, 0),\n",
       "       datetime.datetime(2016, 7, 28, 12, 0),\n",
       "       datetime.datetime(2016, 7, 28, 13, 0),\n",
       "       datetime.datetime(2016, 7, 28, 14, 0),\n",
       "       datetime.datetime(2016, 7, 28, 15, 0),\n",
       "       datetime.datetime(2016, 7, 28, 16, 0),\n",
       "       datetime.datetime(2016, 7, 28, 17, 0),\n",
       "       datetime.datetime(2016, 7, 28, 18, 0),\n",
       "       datetime.datetime(2016, 7, 28, 19, 0),\n",
       "       datetime.datetime(2016, 7, 28, 20, 0),\n",
       "       datetime.datetime(2016, 7, 28, 21, 0),\n",
       "       datetime.datetime(2016, 7, 28, 22, 0),\n",
       "       datetime.datetime(2016, 7, 28, 23, 0),\n",
       "       datetime.datetime(2016, 7, 29, 0, 0),\n",
       "       datetime.datetime(2016, 7, 29, 1, 0),\n",
       "       datetime.datetime(2016, 7, 29, 2, 0),\n",
       "       datetime.datetime(2016, 7, 29, 3, 0),\n",
       "       datetime.datetime(2016, 7, 29, 4, 0),\n",
       "       datetime.datetime(2016, 7, 29, 5, 0),\n",
       "       datetime.datetime(2016, 7, 29, 6, 0),\n",
       "       datetime.datetime(2016, 7, 29, 7, 0),\n",
       "       datetime.datetime(2016, 7, 29, 8, 0),\n",
       "       datetime.datetime(2016, 7, 29, 9, 0),\n",
       "       datetime.datetime(2016, 7, 29, 10, 0),\n",
       "       datetime.datetime(2016, 7, 29, 11, 0),\n",
       "       datetime.datetime(2016, 7, 29, 12, 0),\n",
       "       datetime.datetime(2016, 7, 29, 13, 0),\n",
       "       datetime.datetime(2016, 7, 29, 14, 0),\n",
       "       datetime.datetime(2016, 7, 29, 15, 0),\n",
       "       datetime.datetime(2016, 7, 29, 16, 0),\n",
       "       datetime.datetime(2016, 7, 29, 17, 0),\n",
       "       datetime.datetime(2016, 7, 29, 18, 0),\n",
       "       datetime.datetime(2016, 7, 29, 19, 0),\n",
       "       datetime.datetime(2016, 7, 29, 20, 0),\n",
       "       datetime.datetime(2016, 7, 29, 21, 0),\n",
       "       datetime.datetime(2016, 7, 29, 22, 0),\n",
       "       datetime.datetime(2016, 7, 29, 23, 0),\n",
       "       datetime.datetime(2016, 7, 30, 0, 0),\n",
       "       datetime.datetime(2016, 7, 30, 1, 0),\n",
       "       datetime.datetime(2016, 7, 30, 2, 0),\n",
       "       datetime.datetime(2016, 7, 30, 3, 0),\n",
       "       datetime.datetime(2016, 7, 30, 4, 0),\n",
       "       datetime.datetime(2016, 7, 30, 5, 0),\n",
       "       datetime.datetime(2016, 7, 30, 6, 0),\n",
       "       datetime.datetime(2016, 7, 30, 7, 0),\n",
       "       datetime.datetime(2016, 7, 30, 8, 0),\n",
       "       datetime.datetime(2016, 7, 30, 9, 0),\n",
       "       datetime.datetime(2016, 7, 30, 10, 0),\n",
       "       datetime.datetime(2016, 7, 30, 11, 0),\n",
       "       datetime.datetime(2016, 7, 30, 12, 0),\n",
       "       datetime.datetime(2016, 7, 30, 13, 0),\n",
       "       datetime.datetime(2016, 7, 30, 14, 0),\n",
       "       datetime.datetime(2016, 7, 30, 15, 0),\n",
       "       datetime.datetime(2016, 7, 30, 16, 0),\n",
       "       datetime.datetime(2016, 7, 30, 17, 0),\n",
       "       datetime.datetime(2016, 7, 30, 18, 0),\n",
       "       datetime.datetime(2016, 7, 30, 19, 0),\n",
       "       datetime.datetime(2016, 7, 30, 20, 0),\n",
       "       datetime.datetime(2016, 7, 30, 21, 0),\n",
       "       datetime.datetime(2016, 7, 30, 22, 0),\n",
       "       datetime.datetime(2016, 7, 30, 23, 0),\n",
       "       datetime.datetime(2016, 7, 31, 0, 0),\n",
       "       datetime.datetime(2016, 7, 31, 1, 0),\n",
       "       datetime.datetime(2016, 7, 31, 2, 0),\n",
       "       datetime.datetime(2016, 7, 31, 3, 0),\n",
       "       datetime.datetime(2016, 7, 31, 4, 0),\n",
       "       datetime.datetime(2016, 7, 31, 5, 0),\n",
       "       datetime.datetime(2016, 7, 31, 6, 0),\n",
       "       datetime.datetime(2016, 7, 31, 7, 0),\n",
       "       datetime.datetime(2016, 7, 31, 8, 0),\n",
       "       datetime.datetime(2016, 7, 31, 9, 0),\n",
       "       datetime.datetime(2016, 7, 31, 10, 0),\n",
       "       datetime.datetime(2016, 7, 31, 11, 0),\n",
       "       datetime.datetime(2016, 7, 31, 12, 0),\n",
       "       datetime.datetime(2016, 7, 31, 13, 0),\n",
       "       datetime.datetime(2016, 7, 31, 14, 0),\n",
       "       datetime.datetime(2016, 7, 31, 15, 0),\n",
       "       datetime.datetime(2016, 7, 31, 16, 0),\n",
       "       datetime.datetime(2016, 7, 31, 17, 0),\n",
       "       datetime.datetime(2016, 7, 31, 18, 0),\n",
       "       datetime.datetime(2016, 7, 31, 19, 0),\n",
       "       datetime.datetime(2016, 7, 31, 20, 0),\n",
       "       datetime.datetime(2016, 7, 31, 21, 0),\n",
       "       datetime.datetime(2016, 7, 31, 22, 0),\n",
       "       datetime.datetime(2016, 7, 31, 23, 0),\n",
       "       datetime.datetime(2016, 8, 1, 0, 0),\n",
       "       datetime.datetime(2016, 8, 1, 1, 0),\n",
       "       datetime.datetime(2016, 8, 1, 2, 0),\n",
       "       datetime.datetime(2016, 8, 1, 3, 0),\n",
       "       datetime.datetime(2016, 8, 1, 4, 0),\n",
       "       datetime.datetime(2016, 8, 1, 5, 0),\n",
       "       datetime.datetime(2016, 8, 1, 6, 0),\n",
       "       datetime.datetime(2016, 8, 1, 7, 0),\n",
       "       datetime.datetime(2016, 8, 1, 8, 0),\n",
       "       datetime.datetime(2016, 8, 1, 9, 0),\n",
       "       datetime.datetime(2016, 8, 1, 10, 0),\n",
       "       datetime.datetime(2016, 8, 1, 11, 0),\n",
       "       datetime.datetime(2016, 8, 1, 12, 0),\n",
       "       datetime.datetime(2016, 8, 1, 13, 0),\n",
       "       datetime.datetime(2016, 8, 1, 14, 0),\n",
       "       datetime.datetime(2016, 8, 1, 15, 0),\n",
       "       datetime.datetime(2016, 8, 1, 16, 0),\n",
       "       datetime.datetime(2016, 8, 1, 17, 0),\n",
       "       datetime.datetime(2016, 8, 1, 18, 0),\n",
       "       datetime.datetime(2016, 8, 1, 19, 0),\n",
       "       datetime.datetime(2016, 8, 1, 20, 0),\n",
       "       datetime.datetime(2016, 8, 1, 21, 0),\n",
       "       datetime.datetime(2016, 8, 1, 22, 0),\n",
       "       datetime.datetime(2016, 8, 1, 23, 0),\n",
       "       datetime.datetime(2016, 8, 2, 0, 0),\n",
       "       datetime.datetime(2016, 8, 2, 1, 0),\n",
       "       datetime.datetime(2016, 8, 2, 2, 0),\n",
       "       datetime.datetime(2016, 8, 2, 3, 0),\n",
       "       datetime.datetime(2016, 8, 2, 4, 0),\n",
       "       datetime.datetime(2016, 8, 2, 5, 0),\n",
       "       datetime.datetime(2016, 8, 2, 6, 0),\n",
       "       datetime.datetime(2016, 8, 2, 7, 0),\n",
       "       datetime.datetime(2016, 8, 2, 8, 0),\n",
       "       datetime.datetime(2016, 8, 2, 9, 0),\n",
       "       datetime.datetime(2016, 8, 2, 10, 0),\n",
       "       datetime.datetime(2016, 8, 2, 11, 0),\n",
       "       datetime.datetime(2016, 8, 2, 12, 0),\n",
       "       datetime.datetime(2016, 8, 2, 13, 0),\n",
       "       datetime.datetime(2016, 8, 2, 14, 0),\n",
       "       datetime.datetime(2016, 8, 2, 15, 0),\n",
       "       datetime.datetime(2016, 8, 2, 16, 0),\n",
       "       datetime.datetime(2016, 8, 2, 17, 0),\n",
       "       datetime.datetime(2016, 8, 2, 18, 0),\n",
       "       datetime.datetime(2016, 8, 2, 19, 0),\n",
       "       datetime.datetime(2016, 8, 2, 20, 0),\n",
       "       datetime.datetime(2016, 8, 2, 21, 0),\n",
       "       datetime.datetime(2016, 8, 2, 22, 0),\n",
       "       datetime.datetime(2016, 8, 2, 23, 0),\n",
       "       datetime.datetime(2016, 8, 3, 0, 0),\n",
       "       datetime.datetime(2016, 8, 3, 1, 0),\n",
       "       datetime.datetime(2016, 8, 3, 2, 0),\n",
       "       datetime.datetime(2016, 8, 3, 3, 0),\n",
       "       datetime.datetime(2016, 8, 3, 4, 0),\n",
       "       datetime.datetime(2016, 8, 3, 5, 0),\n",
       "       datetime.datetime(2016, 8, 3, 6, 0),\n",
       "       datetime.datetime(2016, 8, 3, 7, 0),\n",
       "       datetime.datetime(2016, 8, 3, 8, 0),\n",
       "       datetime.datetime(2016, 8, 3, 9, 0),\n",
       "       datetime.datetime(2016, 8, 3, 10, 0),\n",
       "       datetime.datetime(2016, 8, 3, 11, 0),\n",
       "       datetime.datetime(2016, 8, 3, 12, 0),\n",
       "       datetime.datetime(2016, 8, 3, 13, 0),\n",
       "       datetime.datetime(2016, 8, 3, 14, 0),\n",
       "       datetime.datetime(2016, 8, 3, 15, 0),\n",
       "       datetime.datetime(2016, 8, 3, 16, 0),\n",
       "       datetime.datetime(2016, 8, 3, 17, 0),\n",
       "       datetime.datetime(2016, 8, 3, 18, 0),\n",
       "       datetime.datetime(2016, 8, 3, 19, 0),\n",
       "       datetime.datetime(2016, 8, 3, 20, 0),\n",
       "       datetime.datetime(2016, 8, 3, 21, 0),\n",
       "       datetime.datetime(2016, 8, 3, 22, 0),\n",
       "       datetime.datetime(2016, 8, 3, 23, 0),\n",
       "       datetime.datetime(2016, 8, 4, 0, 0),\n",
       "       datetime.datetime(2016, 8, 4, 1, 0),\n",
       "       datetime.datetime(2016, 8, 4, 2, 0),\n",
       "       datetime.datetime(2016, 8, 4, 3, 0),\n",
       "       datetime.datetime(2016, 8, 4, 4, 0),\n",
       "       datetime.datetime(2016, 8, 4, 5, 0),\n",
       "       datetime.datetime(2016, 8, 4, 6, 0),\n",
       "       datetime.datetime(2016, 8, 4, 7, 0),\n",
       "       datetime.datetime(2016, 8, 4, 8, 0),\n",
       "       datetime.datetime(2016, 8, 4, 9, 0),\n",
       "       datetime.datetime(2016, 8, 4, 10, 0),\n",
       "       datetime.datetime(2016, 8, 4, 11, 0),\n",
       "       datetime.datetime(2016, 8, 4, 12, 0),\n",
       "       datetime.datetime(2016, 8, 4, 13, 0),\n",
       "       datetime.datetime(2016, 8, 4, 14, 0),\n",
       "       datetime.datetime(2016, 8, 4, 15, 0),\n",
       "       datetime.datetime(2016, 8, 4, 16, 0),\n",
       "       datetime.datetime(2016, 8, 4, 17, 0),\n",
       "       datetime.datetime(2016, 8, 4, 18, 0),\n",
       "       datetime.datetime(2016, 8, 4, 19, 0),\n",
       "       datetime.datetime(2016, 8, 4, 20, 0),\n",
       "       datetime.datetime(2016, 8, 4, 21, 0),\n",
       "       datetime.datetime(2016, 8, 4, 22, 0),\n",
       "       datetime.datetime(2016, 8, 4, 23, 0),\n",
       "       datetime.datetime(2016, 8, 5, 0, 0),\n",
       "       datetime.datetime(2016, 8, 5, 1, 0),\n",
       "       datetime.datetime(2016, 8, 5, 2, 0),\n",
       "       datetime.datetime(2016, 8, 5, 3, 0),\n",
       "       datetime.datetime(2016, 8, 5, 4, 0),\n",
       "       datetime.datetime(2016, 8, 5, 5, 0),\n",
       "       datetime.datetime(2016, 8, 5, 6, 0),\n",
       "       datetime.datetime(2016, 8, 5, 7, 0),\n",
       "       datetime.datetime(2016, 8, 5, 8, 0),\n",
       "       datetime.datetime(2016, 8, 5, 9, 0),\n",
       "       datetime.datetime(2016, 8, 5, 10, 0),\n",
       "       datetime.datetime(2016, 8, 5, 11, 0),\n",
       "       datetime.datetime(2016, 8, 5, 12, 0),\n",
       "       datetime.datetime(2016, 8, 5, 13, 0),\n",
       "       datetime.datetime(2016, 8, 5, 14, 0),\n",
       "       datetime.datetime(2016, 8, 5, 15, 0),\n",
       "       datetime.datetime(2016, 8, 5, 16, 0),\n",
       "       datetime.datetime(2016, 8, 5, 17, 0),\n",
       "       datetime.datetime(2016, 8, 5, 18, 0),\n",
       "       datetime.datetime(2016, 8, 5, 19, 0),\n",
       "       datetime.datetime(2016, 8, 5, 20, 0),\n",
       "       datetime.datetime(2016, 8, 5, 21, 0),\n",
       "       datetime.datetime(2016, 8, 5, 22, 0),\n",
       "       datetime.datetime(2016, 8, 5, 23, 0),\n",
       "       datetime.datetime(2016, 8, 6, 0, 0),\n",
       "       datetime.datetime(2016, 8, 6, 1, 0),\n",
       "       datetime.datetime(2016, 8, 6, 2, 0),\n",
       "       datetime.datetime(2016, 8, 6, 3, 0),\n",
       "       datetime.datetime(2016, 8, 6, 4, 0),\n",
       "       datetime.datetime(2016, 8, 6, 5, 0),\n",
       "       datetime.datetime(2016, 8, 6, 6, 0),\n",
       "       datetime.datetime(2016, 8, 6, 7, 0),\n",
       "       datetime.datetime(2016, 8, 6, 8, 0),\n",
       "       datetime.datetime(2016, 8, 6, 9, 0),\n",
       "       datetime.datetime(2016, 8, 6, 10, 0),\n",
       "       datetime.datetime(2016, 8, 6, 11, 0),\n",
       "       datetime.datetime(2016, 8, 6, 12, 0),\n",
       "       datetime.datetime(2016, 8, 6, 13, 0),\n",
       "       datetime.datetime(2016, 8, 6, 14, 0),\n",
       "       datetime.datetime(2016, 8, 6, 15, 0),\n",
       "       datetime.datetime(2016, 8, 6, 16, 0),\n",
       "       datetime.datetime(2016, 8, 6, 17, 0),\n",
       "       datetime.datetime(2016, 8, 6, 18, 0),\n",
       "       datetime.datetime(2016, 8, 6, 19, 0),\n",
       "       datetime.datetime(2016, 8, 6, 20, 0),\n",
       "       datetime.datetime(2016, 8, 6, 21, 0),\n",
       "       datetime.datetime(2016, 8, 6, 22, 0),\n",
       "       datetime.datetime(2016, 8, 6, 23, 0),\n",
       "       datetime.datetime(2016, 8, 7, 0, 0),\n",
       "       datetime.datetime(2016, 8, 7, 1, 0),\n",
       "       datetime.datetime(2016, 8, 7, 2, 0),\n",
       "       datetime.datetime(2016, 8, 7, 3, 0),\n",
       "       datetime.datetime(2016, 8, 7, 4, 0),\n",
       "       datetime.datetime(2016, 8, 7, 5, 0),\n",
       "       datetime.datetime(2016, 8, 7, 6, 0),\n",
       "       datetime.datetime(2016, 8, 7, 7, 0),\n",
       "       datetime.datetime(2016, 8, 7, 8, 0),\n",
       "       datetime.datetime(2016, 8, 7, 9, 0),\n",
       "       datetime.datetime(2016, 8, 7, 10, 0),\n",
       "       datetime.datetime(2016, 8, 7, 11, 0),\n",
       "       datetime.datetime(2016, 8, 7, 12, 0),\n",
       "       datetime.datetime(2016, 8, 7, 13, 0),\n",
       "       datetime.datetime(2016, 8, 7, 14, 0),\n",
       "       datetime.datetime(2016, 8, 7, 15, 0),\n",
       "       datetime.datetime(2016, 8, 7, 16, 0),\n",
       "       datetime.datetime(2016, 8, 7, 17, 0),\n",
       "       datetime.datetime(2016, 8, 7, 18, 0),\n",
       "       datetime.datetime(2016, 8, 7, 19, 0),\n",
       "       datetime.datetime(2016, 8, 7, 20, 0),\n",
       "       datetime.datetime(2016, 8, 7, 21, 0),\n",
       "       datetime.datetime(2016, 8, 7, 22, 0),\n",
       "       datetime.datetime(2016, 8, 7, 23, 0),\n",
       "       datetime.datetime(2016, 8, 8, 0, 0),\n",
       "       datetime.datetime(2016, 8, 8, 1, 0),\n",
       "       datetime.datetime(2016, 8, 8, 2, 0),\n",
       "       datetime.datetime(2016, 8, 8, 3, 0),\n",
       "       datetime.datetime(2016, 8, 8, 4, 0),\n",
       "       datetime.datetime(2016, 8, 8, 5, 0),\n",
       "       datetime.datetime(2016, 8, 8, 6, 0),\n",
       "       datetime.datetime(2016, 8, 8, 7, 0),\n",
       "       datetime.datetime(2016, 8, 8, 8, 0),\n",
       "       datetime.datetime(2016, 8, 8, 9, 0),\n",
       "       datetime.datetime(2016, 8, 8, 10, 0),\n",
       "       datetime.datetime(2016, 8, 8, 11, 0),\n",
       "       datetime.datetime(2016, 8, 8, 12, 0),\n",
       "       datetime.datetime(2016, 8, 8, 13, 0),\n",
       "       datetime.datetime(2016, 8, 8, 14, 0),\n",
       "       datetime.datetime(2016, 8, 8, 15, 0),\n",
       "       datetime.datetime(2016, 8, 8, 16, 0),\n",
       "       datetime.datetime(2016, 8, 8, 17, 0),\n",
       "       datetime.datetime(2016, 8, 8, 18, 0),\n",
       "       datetime.datetime(2016, 8, 8, 19, 0),\n",
       "       datetime.datetime(2016, 8, 8, 20, 0),\n",
       "       datetime.datetime(2016, 8, 8, 21, 0),\n",
       "       datetime.datetime(2016, 8, 8, 22, 0),\n",
       "       datetime.datetime(2016, 8, 8, 23, 0),\n",
       "       datetime.datetime(2016, 8, 9, 0, 0),\n",
       "       datetime.datetime(2016, 8, 9, 1, 0),\n",
       "       datetime.datetime(2016, 8, 9, 2, 0),\n",
       "       datetime.datetime(2016, 8, 9, 3, 0),\n",
       "       datetime.datetime(2016, 8, 9, 4, 0),\n",
       "       datetime.datetime(2016, 8, 9, 5, 0),\n",
       "       datetime.datetime(2016, 8, 9, 6, 0),\n",
       "       datetime.datetime(2016, 8, 9, 7, 0),\n",
       "       datetime.datetime(2016, 8, 9, 8, 0),\n",
       "       datetime.datetime(2016, 8, 9, 9, 0),\n",
       "       datetime.datetime(2016, 8, 9, 10, 0),\n",
       "       datetime.datetime(2016, 8, 9, 11, 0),\n",
       "       datetime.datetime(2016, 8, 9, 12, 0),\n",
       "       datetime.datetime(2016, 8, 9, 13, 0),\n",
       "       datetime.datetime(2016, 8, 9, 14, 0),\n",
       "       datetime.datetime(2016, 8, 9, 15, 0),\n",
       "       datetime.datetime(2016, 8, 9, 16, 0),\n",
       "       datetime.datetime(2016, 8, 9, 17, 0),\n",
       "       datetime.datetime(2016, 8, 9, 18, 0),\n",
       "       datetime.datetime(2016, 8, 9, 19, 0),\n",
       "       datetime.datetime(2016, 8, 9, 20, 0),\n",
       "       datetime.datetime(2016, 8, 9, 21, 0),\n",
       "       datetime.datetime(2016, 8, 9, 22, 0),\n",
       "       datetime.datetime(2016, 8, 9, 23, 0),\n",
       "       datetime.datetime(2016, 8, 10, 0, 0),\n",
       "       datetime.datetime(2016, 8, 10, 1, 0),\n",
       "       datetime.datetime(2016, 8, 10, 2, 0),\n",
       "       datetime.datetime(2016, 8, 10, 3, 0),\n",
       "       datetime.datetime(2016, 8, 10, 4, 0),\n",
       "       datetime.datetime(2016, 8, 10, 5, 0),\n",
       "       datetime.datetime(2016, 8, 10, 6, 0),\n",
       "       datetime.datetime(2016, 8, 10, 7, 0),\n",
       "       datetime.datetime(2016, 8, 10, 8, 0),\n",
       "       datetime.datetime(2016, 8, 10, 9, 0),\n",
       "       datetime.datetime(2016, 8, 10, 10, 0),\n",
       "       datetime.datetime(2016, 8, 10, 11, 0),\n",
       "       datetime.datetime(2016, 8, 10, 12, 0),\n",
       "       datetime.datetime(2016, 8, 10, 13, 0),\n",
       "       datetime.datetime(2016, 8, 10, 14, 0),\n",
       "       datetime.datetime(2016, 8, 10, 15, 0),\n",
       "       datetime.datetime(2016, 8, 10, 16, 0),\n",
       "       datetime.datetime(2016, 8, 10, 17, 0),\n",
       "       datetime.datetime(2016, 8, 10, 18, 0),\n",
       "       datetime.datetime(2016, 8, 10, 19, 0),\n",
       "       datetime.datetime(2016, 8, 10, 20, 0),\n",
       "       datetime.datetime(2016, 8, 10, 21, 0),\n",
       "       datetime.datetime(2016, 8, 10, 22, 0),\n",
       "       datetime.datetime(2016, 8, 10, 23, 0),\n",
       "       datetime.datetime(2016, 8, 11, 0, 0),\n",
       "       datetime.datetime(2016, 8, 11, 1, 0),\n",
       "       datetime.datetime(2016, 8, 11, 2, 0),\n",
       "       datetime.datetime(2016, 8, 11, 3, 0),\n",
       "       datetime.datetime(2016, 8, 11, 4, 0),\n",
       "       datetime.datetime(2016, 8, 11, 5, 0),\n",
       "       datetime.datetime(2016, 8, 11, 6, 0),\n",
       "       datetime.datetime(2016, 8, 11, 7, 0),\n",
       "       datetime.datetime(2016, 8, 11, 8, 0),\n",
       "       datetime.datetime(2016, 8, 11, 9, 0),\n",
       "       datetime.datetime(2016, 8, 11, 10, 0),\n",
       "       datetime.datetime(2016, 8, 11, 11, 0),\n",
       "       datetime.datetime(2016, 8, 11, 12, 0),\n",
       "       datetime.datetime(2016, 8, 11, 13, 0),\n",
       "       datetime.datetime(2016, 8, 11, 14, 0),\n",
       "       datetime.datetime(2016, 8, 11, 15, 0),\n",
       "       datetime.datetime(2016, 8, 11, 16, 0),\n",
       "       datetime.datetime(2016, 8, 11, 17, 0),\n",
       "       datetime.datetime(2016, 8, 11, 18, 0),\n",
       "       datetime.datetime(2016, 8, 11, 19, 0),\n",
       "       datetime.datetime(2016, 8, 11, 20, 0),\n",
       "       datetime.datetime(2016, 8, 11, 21, 0),\n",
       "       datetime.datetime(2016, 8, 11, 22, 0),\n",
       "       datetime.datetime(2016, 8, 11, 23, 0),\n",
       "       datetime.datetime(2016, 8, 12, 0, 0),\n",
       "       datetime.datetime(2016, 8, 12, 1, 0),\n",
       "       datetime.datetime(2016, 8, 12, 2, 0),\n",
       "       datetime.datetime(2016, 8, 12, 3, 0),\n",
       "       datetime.datetime(2016, 8, 12, 4, 0),\n",
       "       datetime.datetime(2016, 8, 12, 5, 0),\n",
       "       datetime.datetime(2016, 8, 12, 6, 0),\n",
       "       datetime.datetime(2016, 8, 12, 7, 0),\n",
       "       datetime.datetime(2016, 8, 12, 8, 0),\n",
       "       datetime.datetime(2016, 8, 12, 9, 0),\n",
       "       datetime.datetime(2016, 8, 12, 10, 0),\n",
       "       datetime.datetime(2016, 8, 12, 11, 0),\n",
       "       datetime.datetime(2016, 8, 12, 12, 0),\n",
       "       datetime.datetime(2016, 8, 12, 13, 0),\n",
       "       datetime.datetime(2016, 8, 12, 14, 0),\n",
       "       datetime.datetime(2016, 8, 12, 15, 0),\n",
       "       datetime.datetime(2016, 8, 12, 16, 0),\n",
       "       datetime.datetime(2016, 8, 12, 17, 0),\n",
       "       datetime.datetime(2016, 8, 12, 18, 0),\n",
       "       datetime.datetime(2016, 8, 12, 19, 0),\n",
       "       datetime.datetime(2016, 8, 12, 20, 0),\n",
       "       datetime.datetime(2016, 8, 12, 21, 0),\n",
       "       datetime.datetime(2016, 8, 12, 22, 0),\n",
       "       datetime.datetime(2016, 8, 12, 23, 0),\n",
       "       datetime.datetime(2016, 8, 13, 0, 0),\n",
       "       datetime.datetime(2016, 8, 13, 1, 0),\n",
       "       datetime.datetime(2016, 8, 13, 2, 0),\n",
       "       datetime.datetime(2016, 8, 13, 3, 0),\n",
       "       datetime.datetime(2016, 8, 13, 4, 0),\n",
       "       datetime.datetime(2016, 8, 13, 5, 0),\n",
       "       datetime.datetime(2016, 8, 13, 6, 0),\n",
       "       datetime.datetime(2016, 8, 13, 7, 0),\n",
       "       datetime.datetime(2016, 8, 13, 8, 0),\n",
       "       datetime.datetime(2016, 8, 13, 9, 0),\n",
       "       datetime.datetime(2016, 8, 13, 10, 0),\n",
       "       datetime.datetime(2016, 8, 13, 11, 0),\n",
       "       datetime.datetime(2016, 8, 13, 12, 0),\n",
       "       datetime.datetime(2016, 8, 13, 13, 0),\n",
       "       datetime.datetime(2016, 8, 13, 14, 0),\n",
       "       datetime.datetime(2016, 8, 13, 15, 0),\n",
       "       datetime.datetime(2016, 8, 13, 16, 0),\n",
       "       datetime.datetime(2016, 8, 13, 17, 0),\n",
       "       datetime.datetime(2016, 8, 13, 18, 0),\n",
       "       datetime.datetime(2016, 8, 13, 19, 0),\n",
       "       datetime.datetime(2016, 8, 13, 20, 0),\n",
       "       datetime.datetime(2016, 8, 13, 21, 0),\n",
       "       datetime.datetime(2016, 8, 13, 22, 0),\n",
       "       datetime.datetime(2016, 8, 13, 23, 0),\n",
       "       datetime.datetime(2016, 8, 14, 0, 0),\n",
       "       datetime.datetime(2016, 8, 14, 1, 0),\n",
       "       datetime.datetime(2016, 8, 14, 2, 0),\n",
       "       datetime.datetime(2016, 8, 14, 3, 0),\n",
       "       datetime.datetime(2016, 8, 14, 4, 0),\n",
       "       datetime.datetime(2016, 8, 14, 5, 0),\n",
       "       datetime.datetime(2016, 8, 14, 6, 0),\n",
       "       datetime.datetime(2016, 8, 14, 7, 0),\n",
       "       datetime.datetime(2016, 8, 14, 8, 0),\n",
       "       datetime.datetime(2016, 8, 14, 9, 0),\n",
       "       datetime.datetime(2016, 8, 14, 10, 0),\n",
       "       datetime.datetime(2016, 8, 14, 11, 0),\n",
       "       datetime.datetime(2016, 8, 14, 12, 0),\n",
       "       datetime.datetime(2016, 8, 14, 13, 0),\n",
       "       datetime.datetime(2016, 8, 14, 14, 0),\n",
       "       datetime.datetime(2016, 8, 14, 15, 0),\n",
       "       datetime.datetime(2016, 8, 14, 16, 0),\n",
       "       datetime.datetime(2016, 8, 14, 17, 0),\n",
       "       datetime.datetime(2016, 8, 14, 18, 0),\n",
       "       datetime.datetime(2016, 8, 14, 19, 0),\n",
       "       datetime.datetime(2016, 8, 14, 20, 0),\n",
       "       datetime.datetime(2016, 8, 14, 21, 0),\n",
       "       datetime.datetime(2016, 8, 14, 22, 0),\n",
       "       datetime.datetime(2016, 8, 14, 23, 0),\n",
       "       datetime.datetime(2016, 8, 15, 0, 0),\n",
       "       datetime.datetime(2016, 8, 15, 1, 0),\n",
       "       datetime.datetime(2016, 8, 15, 2, 0),\n",
       "       datetime.datetime(2016, 8, 15, 3, 0),\n",
       "       datetime.datetime(2016, 8, 15, 4, 0),\n",
       "       datetime.datetime(2016, 8, 15, 5, 0),\n",
       "       datetime.datetime(2016, 8, 15, 6, 0),\n",
       "       datetime.datetime(2016, 8, 15, 7, 0),\n",
       "       datetime.datetime(2016, 8, 15, 8, 0),\n",
       "       datetime.datetime(2016, 8, 15, 9, 0),\n",
       "       datetime.datetime(2016, 8, 15, 10, 0),\n",
       "       datetime.datetime(2016, 8, 15, 11, 0),\n",
       "       datetime.datetime(2016, 8, 15, 12, 0),\n",
       "       datetime.datetime(2016, 8, 15, 13, 0),\n",
       "       datetime.datetime(2016, 8, 15, 14, 0),\n",
       "       datetime.datetime(2016, 8, 15, 15, 0),\n",
       "       datetime.datetime(2016, 8, 15, 16, 0),\n",
       "       datetime.datetime(2016, 8, 15, 17, 0),\n",
       "       datetime.datetime(2016, 8, 15, 18, 0),\n",
       "       datetime.datetime(2016, 8, 15, 19, 0),\n",
       "       datetime.datetime(2016, 8, 15, 20, 0),\n",
       "       datetime.datetime(2016, 8, 15, 21, 0),\n",
       "       datetime.datetime(2016, 8, 15, 22, 0),\n",
       "       datetime.datetime(2016, 8, 15, 23, 0),\n",
       "       datetime.datetime(2016, 8, 16, 0, 0),\n",
       "       datetime.datetime(2016, 8, 16, 1, 0),\n",
       "       datetime.datetime(2016, 8, 16, 2, 0),\n",
       "       datetime.datetime(2016, 8, 16, 3, 0),\n",
       "       datetime.datetime(2016, 8, 16, 4, 0),\n",
       "       datetime.datetime(2016, 8, 16, 5, 0),\n",
       "       datetime.datetime(2016, 8, 16, 6, 0),\n",
       "       datetime.datetime(2016, 8, 16, 7, 0),\n",
       "       datetime.datetime(2016, 8, 16, 8, 0),\n",
       "       datetime.datetime(2016, 8, 16, 9, 0),\n",
       "       datetime.datetime(2016, 8, 16, 10, 0),\n",
       "       datetime.datetime(2016, 8, 16, 11, 0),\n",
       "       datetime.datetime(2016, 8, 16, 12, 0),\n",
       "       datetime.datetime(2016, 8, 16, 13, 0),\n",
       "       datetime.datetime(2016, 8, 16, 14, 0),\n",
       "       datetime.datetime(2016, 8, 16, 15, 0),\n",
       "       datetime.datetime(2016, 8, 16, 16, 0),\n",
       "       datetime.datetime(2016, 8, 16, 17, 0),\n",
       "       datetime.datetime(2016, 8, 16, 18, 0),\n",
       "       datetime.datetime(2016, 8, 16, 19, 0),\n",
       "       datetime.datetime(2016, 8, 16, 20, 0),\n",
       "       datetime.datetime(2016, 8, 16, 21, 0),\n",
       "       datetime.datetime(2016, 8, 16, 22, 0),\n",
       "       datetime.datetime(2016, 8, 16, 23, 0),\n",
       "       datetime.datetime(2016, 8, 17, 0, 0),\n",
       "       datetime.datetime(2016, 8, 17, 1, 0),\n",
       "       datetime.datetime(2016, 8, 17, 2, 0),\n",
       "       datetime.datetime(2016, 8, 17, 3, 0),\n",
       "       datetime.datetime(2016, 8, 17, 4, 0),\n",
       "       datetime.datetime(2016, 8, 17, 5, 0),\n",
       "       datetime.datetime(2016, 8, 17, 6, 0),\n",
       "       datetime.datetime(2016, 8, 17, 7, 0),\n",
       "       datetime.datetime(2016, 8, 17, 8, 0),\n",
       "       datetime.datetime(2016, 8, 17, 9, 0),\n",
       "       datetime.datetime(2016, 8, 17, 10, 0),\n",
       "       datetime.datetime(2016, 8, 17, 11, 0),\n",
       "       datetime.datetime(2016, 8, 17, 12, 0),\n",
       "       datetime.datetime(2016, 8, 17, 13, 0),\n",
       "       datetime.datetime(2016, 8, 17, 14, 0),\n",
       "       datetime.datetime(2016, 8, 17, 15, 0),\n",
       "       datetime.datetime(2016, 8, 17, 16, 0),\n",
       "       datetime.datetime(2016, 8, 17, 17, 0),\n",
       "       datetime.datetime(2016, 8, 17, 18, 0),\n",
       "       datetime.datetime(2016, 8, 17, 19, 0),\n",
       "       datetime.datetime(2016, 8, 17, 20, 0),\n",
       "       datetime.datetime(2016, 8, 17, 21, 0),\n",
       "       datetime.datetime(2016, 8, 17, 22, 0),\n",
       "       datetime.datetime(2016, 8, 17, 23, 0),\n",
       "       datetime.datetime(2016, 8, 18, 0, 0),\n",
       "       datetime.datetime(2016, 8, 18, 1, 0),\n",
       "       datetime.datetime(2016, 8, 18, 2, 0),\n",
       "       datetime.datetime(2016, 8, 18, 3, 0),\n",
       "       datetime.datetime(2016, 8, 18, 4, 0),\n",
       "       datetime.datetime(2016, 8, 18, 5, 0),\n",
       "       datetime.datetime(2016, 8, 18, 6, 0),\n",
       "       datetime.datetime(2016, 8, 18, 7, 0),\n",
       "       datetime.datetime(2016, 8, 18, 8, 0),\n",
       "       datetime.datetime(2016, 8, 18, 9, 0),\n",
       "       datetime.datetime(2016, 8, 18, 10, 0),\n",
       "       datetime.datetime(2016, 8, 18, 11, 0),\n",
       "       datetime.datetime(2016, 8, 18, 12, 0),\n",
       "       datetime.datetime(2016, 8, 18, 13, 0),\n",
       "       datetime.datetime(2016, 8, 18, 14, 0),\n",
       "       datetime.datetime(2016, 8, 18, 15, 0),\n",
       "       datetime.datetime(2016, 8, 18, 16, 0),\n",
       "       datetime.datetime(2016, 8, 18, 17, 0),\n",
       "       datetime.datetime(2016, 8, 18, 18, 0),\n",
       "       datetime.datetime(2016, 8, 18, 19, 0),\n",
       "       datetime.datetime(2016, 8, 18, 20, 0),\n",
       "       datetime.datetime(2016, 8, 18, 21, 0),\n",
       "       datetime.datetime(2016, 8, 18, 22, 0),\n",
       "       datetime.datetime(2016, 8, 18, 23, 0),\n",
       "       datetime.datetime(2016, 8, 19, 0, 0),\n",
       "       datetime.datetime(2016, 8, 19, 1, 0),\n",
       "       datetime.datetime(2016, 8, 19, 2, 0),\n",
       "       datetime.datetime(2016, 8, 19, 3, 0),\n",
       "       datetime.datetime(2016, 8, 19, 4, 0),\n",
       "       datetime.datetime(2016, 8, 19, 5, 0),\n",
       "       datetime.datetime(2016, 8, 19, 6, 0),\n",
       "       datetime.datetime(2016, 8, 19, 7, 0),\n",
       "       datetime.datetime(2016, 8, 19, 8, 0),\n",
       "       datetime.datetime(2016, 8, 19, 9, 0),\n",
       "       datetime.datetime(2016, 8, 19, 10, 0),\n",
       "       datetime.datetime(2016, 8, 19, 11, 0),\n",
       "       datetime.datetime(2016, 8, 19, 12, 0),\n",
       "       datetime.datetime(2016, 8, 19, 13, 0),\n",
       "       datetime.datetime(2016, 8, 19, 14, 0),\n",
       "       datetime.datetime(2016, 8, 19, 15, 0),\n",
       "       datetime.datetime(2016, 8, 19, 16, 0),\n",
       "       datetime.datetime(2016, 8, 19, 17, 0),\n",
       "       datetime.datetime(2016, 8, 19, 18, 0),\n",
       "       datetime.datetime(2016, 8, 19, 19, 0),\n",
       "       datetime.datetime(2016, 8, 19, 20, 0),\n",
       "       datetime.datetime(2016, 8, 19, 21, 0),\n",
       "       datetime.datetime(2016, 8, 19, 22, 0),\n",
       "       datetime.datetime(2016, 8, 19, 23, 0),\n",
       "       datetime.datetime(2016, 8, 20, 0, 0),\n",
       "       datetime.datetime(2016, 8, 20, 1, 0),\n",
       "       datetime.datetime(2016, 8, 20, 2, 0),\n",
       "       datetime.datetime(2016, 8, 20, 3, 0),\n",
       "       datetime.datetime(2016, 8, 20, 4, 0),\n",
       "       datetime.datetime(2016, 8, 20, 5, 0),\n",
       "       datetime.datetime(2016, 8, 20, 6, 0),\n",
       "       datetime.datetime(2016, 8, 20, 7, 0),\n",
       "       datetime.datetime(2016, 8, 20, 8, 0),\n",
       "       datetime.datetime(2016, 8, 20, 9, 0),\n",
       "       datetime.datetime(2016, 8, 20, 10, 0),\n",
       "       datetime.datetime(2016, 8, 20, 11, 0),\n",
       "       datetime.datetime(2016, 8, 20, 12, 0),\n",
       "       datetime.datetime(2016, 8, 20, 13, 0),\n",
       "       datetime.datetime(2016, 8, 20, 14, 0),\n",
       "       datetime.datetime(2016, 8, 20, 15, 0),\n",
       "       datetime.datetime(2016, 8, 20, 16, 0),\n",
       "       datetime.datetime(2016, 8, 20, 17, 0),\n",
       "       datetime.datetime(2016, 8, 20, 18, 0),\n",
       "       datetime.datetime(2016, 8, 20, 19, 0),\n",
       "       datetime.datetime(2016, 8, 20, 20, 0),\n",
       "       datetime.datetime(2016, 8, 20, 21, 0),\n",
       "       datetime.datetime(2016, 8, 20, 22, 0),\n",
       "       datetime.datetime(2016, 8, 20, 23, 0),\n",
       "       datetime.datetime(2016, 8, 21, 0, 0),\n",
       "       datetime.datetime(2016, 8, 21, 1, 0),\n",
       "       datetime.datetime(2016, 8, 21, 2, 0),\n",
       "       datetime.datetime(2016, 8, 21, 3, 0),\n",
       "       datetime.datetime(2016, 8, 21, 4, 0),\n",
       "       datetime.datetime(2016, 8, 21, 5, 0),\n",
       "       datetime.datetime(2016, 8, 21, 6, 0),\n",
       "       datetime.datetime(2016, 8, 21, 7, 0),\n",
       "       datetime.datetime(2016, 8, 21, 8, 0),\n",
       "       datetime.datetime(2016, 8, 21, 9, 0),\n",
       "       datetime.datetime(2016, 8, 21, 10, 0),\n",
       "       datetime.datetime(2016, 8, 21, 11, 0),\n",
       "       datetime.datetime(2016, 8, 21, 12, 0),\n",
       "       datetime.datetime(2016, 8, 21, 13, 0),\n",
       "       datetime.datetime(2016, 8, 21, 14, 0),\n",
       "       datetime.datetime(2016, 8, 21, 15, 0),\n",
       "       datetime.datetime(2016, 8, 21, 16, 0),\n",
       "       datetime.datetime(2016, 8, 21, 17, 0),\n",
       "       datetime.datetime(2016, 8, 21, 18, 0),\n",
       "       datetime.datetime(2016, 8, 21, 19, 0),\n",
       "       datetime.datetime(2016, 8, 21, 20, 0),\n",
       "       datetime.datetime(2016, 8, 21, 21, 0),\n",
       "       datetime.datetime(2016, 8, 21, 22, 0),\n",
       "       datetime.datetime(2016, 8, 21, 23, 0),\n",
       "       datetime.datetime(2016, 8, 22, 0, 0),\n",
       "       datetime.datetime(2016, 8, 22, 1, 0),\n",
       "       datetime.datetime(2016, 8, 22, 2, 0),\n",
       "       datetime.datetime(2016, 8, 22, 3, 0),\n",
       "       datetime.datetime(2016, 8, 22, 4, 0),\n",
       "       datetime.datetime(2016, 8, 22, 5, 0),\n",
       "       datetime.datetime(2016, 8, 22, 6, 0),\n",
       "       datetime.datetime(2016, 8, 22, 7, 0),\n",
       "       datetime.datetime(2016, 8, 22, 8, 0),\n",
       "       datetime.datetime(2016, 8, 22, 9, 0),\n",
       "       datetime.datetime(2016, 8, 22, 10, 0),\n",
       "       datetime.datetime(2016, 8, 22, 11, 0),\n",
       "       datetime.datetime(2016, 8, 22, 12, 0),\n",
       "       datetime.datetime(2016, 8, 22, 13, 0),\n",
       "       datetime.datetime(2016, 8, 22, 14, 0),\n",
       "       datetime.datetime(2016, 8, 22, 15, 0),\n",
       "       datetime.datetime(2016, 8, 22, 16, 0),\n",
       "       datetime.datetime(2016, 8, 22, 17, 0),\n",
       "       datetime.datetime(2016, 8, 22, 18, 0),\n",
       "       datetime.datetime(2016, 8, 22, 19, 0),\n",
       "       datetime.datetime(2016, 8, 22, 20, 0),\n",
       "       datetime.datetime(2016, 8, 22, 21, 0),\n",
       "       datetime.datetime(2016, 8, 22, 22, 0),\n",
       "       datetime.datetime(2016, 8, 22, 23, 0)], dtype=object)"
      ]
     },
     "execution_count": 7,
     "metadata": {},
     "output_type": "execute_result"
    }
   ],
   "source": [
    "times = ozone_data2.variables['time']\n",
    "#time to date\n",
    "jd = nc.num2date(times[:], times.units)\n",
    "jd"
   ]
  },
  {
   "cell_type": "code",
   "execution_count": 8,
   "metadata": {},
   "outputs": [],
   "source": [
    "# function to find index to nearest point\n",
    "def near(array,value):\n",
    "    idx=(np.abs(array-value)).argmin()\n",
    "    return idx\n",
    "#not really sure about the codes here"
   ]
  },
  {
   "cell_type": "code",
   "execution_count": 9,
   "metadata": {},
   "outputs": [],
   "source": [
    "# find nearest point to desired location\n",
    "ix = near(lons, loni)\n",
    "iy = near(lats, lati)"
   ]
  },
  {
   "cell_type": "code",
   "execution_count": 10,
   "metadata": {},
   "outputs": [
    {
     "data": {
      "text/plain": [
       "62"
      ]
     },
     "execution_count": 10,
     "metadata": {},
     "output_type": "execute_result"
    }
   ],
   "source": [
    "ix"
   ]
  },
  {
   "cell_type": "code",
   "execution_count": 11,
   "metadata": {},
   "outputs": [
    {
     "data": {
      "text/plain": [
       "103"
      ]
     },
     "execution_count": 11,
     "metadata": {},
     "output_type": "execute_result"
    }
   ],
   "source": [
    "iy"
   ]
  },
  {
   "cell_type": "code",
   "execution_count": 12,
   "metadata": {},
   "outputs": [],
   "source": [
    "vname = 'mass_fraction_of_ozone_in_air'\n",
    "m_f = ozone_data2.variables['mass_fraction_of_ozone_in_air']\n",
    "h = m_f[:,0,iy,ix]"
   ]
  },
  {
   "cell_type": "code",
   "execution_count": 23,
   "metadata": {},
   "outputs": [
    {
     "data": {
      "text/plain": [
       "Text(0.5, 1.0, 'Beijing')"
      ]
     },
     "execution_count": 23,
     "metadata": {},
     "output_type": "execute_result"
    },
    {
     "data": {
      "image/png": "[encoded data removed]",
      "text/plain": [
       "<Figure size 1152x288 with 1 Axes>"
      ]
     },
     "metadata": {
      "needs_background": "light"
     },
     "output_type": "display_data"
    }
   ],
   "source": [
    "plt.figure(figsize=(16,4))\n",
    "plt.plot_date(jd,h*(28.97e9/48),fmt='-')\n",
    "plt.grid()\n",
    "plt.ylabel('O$_3$ / ppb', fontsize = 17)\n",
    "plt.title('Beijing', fontsize = 20)"
   ]
  },
  {
   "cell_type": "markdown",
   "metadata": {},
   "source": [
    "## New Delhi"
   ]
  },
  {
   "cell_type": "code",
   "execution_count": 14,
   "metadata": {},
   "outputs": [],
   "source": [
    "loni1 = 77.2090\n",
    "lati1 = 28.6139\n",
    "ix1 = near(lons, loni1)\n",
    "iy1 = near(lats, lati1)"
   ]
  },
  {
   "cell_type": "code",
   "execution_count": 15,
   "metadata": {},
   "outputs": [
    {
     "data": {
      "text/plain": [
       "41"
      ]
     },
     "execution_count": 15,
     "metadata": {},
     "output_type": "execute_result"
    }
   ],
   "source": [
    "ix1"
   ]
  },
  {
   "cell_type": "code",
   "execution_count": 16,
   "metadata": {},
   "outputs": [],
   "source": [
    "h1 = m_f[:,0,iy1,ix1]"
   ]
  },
  {
   "cell_type": "code",
   "execution_count": 24,
   "metadata": {},
   "outputs": [
    {
     "data": {
      "text/plain": [
       "Text(0.5, 1.0, 'Delhi')"
      ]
     },
     "execution_count": 24,
     "metadata": {},
     "output_type": "execute_result"
    },
    {
     "data": {
      "image/png": "[encoded data removed]",
      "text/plain": [
       "<Figure size 1152x288 with 1 Axes>"
      ]
     },
     "metadata": {
      "needs_background": "light"
     },
     "output_type": "display_data"
    }
   ],
   "source": [
    "plt.figure(figsize=(16,4))\n",
    "plt.plot_date(jd,h1*28.97e9/48,fmt='-')\n",
    "plt.ylabel('O$_3$ / ppb', fontsize = 17)\n",
    "plt.title('Delhi', fontsize = 20)"
   ]
  },
  {
   "cell_type": "markdown",
   "metadata": {},
   "source": [
    "## London"
   ]
  },
  {
   "cell_type": "code",
   "execution_count": 31,
   "metadata": {},
   "outputs": [],
   "source": [
    "loni2 = -0.118092 + 360\n",
    "lati2 = 51.509865\n",
    "ix2 = near(lons, loni2)\n",
    "iy2 = near(lats, lati2)"
   ]
  },
  {
   "cell_type": "code",
   "execution_count": 32,
   "metadata": {},
   "outputs": [
    {
     "data": {
      "text/plain": [
       "113"
      ]
     },
     "execution_count": 32,
     "metadata": {},
     "output_type": "execute_result"
    }
   ],
   "source": [
    "iy2"
   ]
  },
  {
   "cell_type": "code",
   "execution_count": 33,
   "metadata": {},
   "outputs": [
    {
     "data": {
      "text/plain": [
       "Text(0, 0.5, 'mass_fraction_of_ozone_in_air')"
      ]
     },
     "execution_count": 33,
     "metadata": {},
     "output_type": "execute_result"
    },
    {
     "data": {
      "image/png": "[encoded data removed]",
      "text/plain": [
       "<Figure size 1152x288 with 1 Axes>"
      ]
     },
     "metadata": {
      "needs_background": "light"
     },
     "output_type": "display_data"
    }
   ],
   "source": [
    "h2 = m_f[:,0,iy2,ix2]\n",
    "plt.figure(figsize=(16,4))\n",
    "plt.plot_date(jd,h2*28.97e9/48,fmt='-')\n",
    "plt.grid()\n",
    "plt.ylabel('mass_fraction_of_ozone_in_air')"
   ]
  },
  {
   "cell_type": "markdown",
   "metadata": {},
   "source": [
    "# Hovmuller plot"
   ]
  },
  {
   "cell_type": "code",
   "execution_count": 34,
   "metadata": {},
   "outputs": [],
   "source": [
    "import cartopy.crs as ccrs\n",
    "import cartopy.feature as cfeature\n",
    "import matplotlib.gridspec as gridspec\n",
    "import metpy.calc as mpcalc"
   ]
  },
  {
   "cell_type": "code",
   "execution_count": 35,
   "metadata": {},
   "outputs": [
    {
     "name": "stdout",
     "output_type": "stream",
     "text": [
      "<class 'netCDF4._netCDF4.Variable'>\n",
      "int32 model_level_number(model_level_number)\n",
      "    axis: Z\n",
      "    units: 1\n",
      "    standard_name: model_level_number\n",
      "    positive: up\n",
      "unlimited dimensions: \n",
      "current shape = (35,)\n",
      "filling on, default _FillValue of -2147483647 used\n",
      "\n"
     ]
    }
   ],
   "source": [
    "print(mln)"
   ]
  },
  {
   "cell_type": "code",
   "execution_count": 36,
   "metadata": {},
   "outputs": [
    {
     "name": "stdout",
     "output_type": "stream",
     "text": [
      "<class 'netCDF4._netCDF4.Dataset'>\n",
      "root group (NETCDF4_CLASSIC data model, file format HDF5):\n",
      "    source: Data from Met Office Unified Model\n",
      "    um_version: 10.6\n",
      "    Conventions: CF-1.5\n",
      "    dimensions(sizes): time(623), model_level_number(35), latitude(144), longitude(192), bnds(2)\n",
      "    variables(dimensions): float32 \u001b[4mmass_fraction_of_ozone_in_air\u001b[0m(time,model_level_number,latitude,longitude), int32 \u001b[4mlatitude_longitude\u001b[0m(), float64 \u001b[4mtime\u001b[0m(time), int32 \u001b[4mmodel_level_number\u001b[0m(model_level_number), float32 \u001b[4mlatitude\u001b[0m(latitude), float32 \u001b[4mlongitude\u001b[0m(longitude), float64 \u001b[4mforecast_period\u001b[0m(time), float64 \u001b[4mforecast_reference_time\u001b[0m(), float32 \u001b[4mlevel_height\u001b[0m(model_level_number), float32 \u001b[4mlevel_height_bnds\u001b[0m(model_level_number,bnds), float32 \u001b[4msigma\u001b[0m(model_level_number), float32 \u001b[4msigma_bnds\u001b[0m(model_level_number,bnds)\n",
      "    groups: \n",
      "\n"
     ]
    }
   ],
   "source": [
    "print(ozone_data2)\n",
    "o3 = ozone_data2.variables['mass_fraction_of_ozone_in_air'][:]\n",
    "loni = ozone_data2.variables['longitude'][:]\n",
    "lati = ozone_data2.variables['latitude'][:]\n",
    "timei = ozone_data2.variables['time'][:]"
   ]
  },
  {
   "cell_type": "code",
   "execution_count": 88,
   "metadata": {},
   "outputs": [
    {
     "data": {
      "text/plain": [
       "masked_array(\n",
       "  data=[[[2.0775899e-06, 2.0770478e-06, 2.0773539e-06, ...,\n",
       "          2.0800926e-06, 2.0788457e-06, 2.0781099e-06],\n",
       "         [2.0357404e-06, 2.0388334e-06, 2.0404498e-06, ...,\n",
       "          2.0188222e-06, 2.0258781e-06, 2.0313830e-06],\n",
       "         [2.1578355e-06, 2.1469812e-06, 2.1332992e-06, ...,\n",
       "          2.1691267e-06, 2.1695766e-06, 2.1657681e-06],\n",
       "         ...,\n",
       "         [2.8821742e-06, 2.8709053e-06, 2.8621600e-06, ...,\n",
       "          2.9174714e-06, 2.9086611e-06, 2.8957922e-06],\n",
       "         [2.9423736e-06, 2.9419455e-06, 2.9443104e-06, ...,\n",
       "          2.9455634e-06, 2.9453031e-06, 2.9445605e-06],\n",
       "         [2.9292748e-06, 2.9306234e-06, 2.9319347e-06, ...,\n",
       "          2.9268022e-06, 2.9252026e-06, 2.9262792e-06]],\n",
       "\n",
       "        [[2.0691966e-06, 2.0682435e-06, 2.0678692e-06, ...,\n",
       "          2.0705302e-06, 2.0703519e-06, 2.0698437e-06],\n",
       "         [2.0531709e-06, 2.0567609e-06, 2.0590326e-06, ...,\n",
       "          2.0326577e-06, 2.0412381e-06, 2.0482134e-06],\n",
       "         [2.1667888e-06, 2.1544959e-06, 2.1390817e-06, ...,\n",
       "          2.1818960e-06, 2.1813171e-06, 2.1758060e-06],\n",
       "         ...,\n",
       "         [2.9088692e-06, 2.8942256e-06, 2.8797942e-06, ...,\n",
       "          2.9321620e-06, 2.9263467e-06, 2.9192904e-06],\n",
       "         [2.9559208e-06, 2.9545902e-06, 2.9517732e-06, ...,\n",
       "          2.9588757e-06, 2.9581297e-06, 2.9570324e-06],\n",
       "         [2.9347982e-06, 2.9360510e-06, 2.9364542e-06, ...,\n",
       "          2.9276455e-06, 2.9267899e-06, 2.9307100e-06]],\n",
       "\n",
       "        [[2.0611128e-06, 2.0612379e-06, 2.0613468e-06, ...,\n",
       "          2.0596558e-06, 2.0601105e-06, 2.0601547e-06],\n",
       "         [2.0689338e-06, 2.0733555e-06, 2.0758569e-06, ...,\n",
       "          2.0460516e-06, 2.0547100e-06, 2.0625184e-06],\n",
       "         [2.1730439e-06, 2.1592411e-06, 2.1408439e-06, ...,\n",
       "          2.1907101e-06, 2.1884080e-06, 2.1824321e-06],\n",
       "         ...,\n",
       "         [2.9307726e-06, 2.9215184e-06, 2.9079365e-06, ...,\n",
       "          2.9460352e-06, 2.9422508e-06, 2.9371449e-06],\n",
       "         [2.9696182e-06, 2.9679752e-06, 2.9662774e-06, ...,\n",
       "          2.9699115e-06, 2.9715372e-06, 2.9691239e-06],\n",
       "         [2.9372472e-06, 2.9382429e-06, 2.9379253e-06, ...,\n",
       "          2.9352584e-06, 2.9356593e-06, 2.9345847e-06]],\n",
       "\n",
       "        ...,\n",
       "\n",
       "        [[2.0003738e-06, 2.0025145e-06, 2.0045263e-06, ...,\n",
       "          1.9933245e-06, 1.9958720e-06, 1.9980112e-06],\n",
       "         [2.3739351e-06, 2.3783230e-06, 2.3821201e-06, ...,\n",
       "          2.3560083e-06, 2.3629395e-06, 2.3688397e-06],\n",
       "         [2.3742562e-06, 2.3742932e-06, 2.3740772e-06, ...,\n",
       "          2.3728280e-06, 2.3736345e-06, 2.3740201e-06],\n",
       "         ...,\n",
       "         [3.3949968e-06, 3.4038467e-06, 3.4113507e-06, ...,\n",
       "          3.3843303e-06, 3.3856477e-06, 3.3905867e-06],\n",
       "         [3.5106516e-06, 3.5148132e-06, 3.5170538e-06, ...,\n",
       "          3.4777622e-06, 3.4894745e-06, 3.5004932e-06],\n",
       "         [3.5308183e-06, 3.5351372e-06, 3.5382209e-06, ...,\n",
       "          3.5226974e-06, 3.5291232e-06, 3.5353046e-06]],\n",
       "\n",
       "        [[2.0077250e-06, 2.0097616e-06, 2.0117177e-06, ...,\n",
       "          2.0005043e-06, 2.0032198e-06, 2.0055518e-06],\n",
       "         [2.3836653e-06, 2.3873324e-06, 2.3902683e-06, ...,\n",
       "          2.3683458e-06, 2.3742050e-06, 2.3793136e-06],\n",
       "         [2.3726368e-06, 2.3716525e-06, 2.3706125e-06, ...,\n",
       "          2.3748164e-06, 2.3743280e-06, 2.3735274e-06],\n",
       "         ...,\n",
       "         [3.4289126e-06, 3.4386189e-06, 3.4441280e-06, ...,\n",
       "          3.4130235e-06, 3.4132604e-06, 3.4184761e-06],\n",
       "         [3.5039568e-06, 3.5084704e-06, 3.5150331e-06, ...,\n",
       "          3.4680336e-06, 3.4816399e-06, 3.4935367e-06],\n",
       "         [3.5254061e-06, 3.5259889e-06, 3.5328164e-06, ...,\n",
       "          3.5114008e-06, 3.5199316e-06, 3.5238133e-06]],\n",
       "\n",
       "        [[2.0137466e-06, 2.0157679e-06, 2.0177210e-06, ...,\n",
       "          2.0061109e-06, 2.0088994e-06, 2.0114592e-06],\n",
       "         [2.3917164e-06, 2.3942841e-06, 2.3963125e-06, ...,\n",
       "          2.3800458e-06, 2.3846396e-06, 2.3885304e-06],\n",
       "         [2.3670370e-06, 2.3650152e-06, 2.3630714e-06, ...,\n",
       "          2.3730372e-06, 2.3711598e-06, 2.3690936e-06],\n",
       "         ...,\n",
       "         [3.4323432e-06, 3.4452257e-06, 3.4583948e-06, ...,\n",
       "          3.4206219e-06, 3.4177936e-06, 3.4201048e-06],\n",
       "         [3.4814391e-06, 3.4892762e-06, 3.4959435e-06, ...,\n",
       "          3.4405221e-06, 3.4560292e-06, 3.4701068e-06],\n",
       "         [3.5124797e-06, 3.5174337e-06, 3.5201463e-06, ...,\n",
       "          3.4882294e-06, 3.5034657e-06, 3.5097326e-06]]],\n",
       "  mask=False,\n",
       "  fill_value=1e+20,\n",
       "  dtype=float32)"
      ]
     },
     "execution_count": 88,
     "metadata": {},
     "output_type": "execute_result"
    }
   ],
   "source": [
    "o3_2 = np.sum(o3, axis=1)\n",
    "o3_2"
   ]
  },
  {
   "cell_type": "code",
   "execution_count": 90,
   "metadata": {},
   "outputs": [
    {
     "name": "stdout",
     "output_type": "stream",
     "text": [
      "Original time 408241.0 is now converted as [datetime.datetime(2016, 7, 28, 1, 0) datetime.datetime(2016, 7, 28, 1, 0)\n",
      " datetime.datetime(2016, 7, 28, 1, 0) datetime.datetime(2016, 7, 28, 1, 0)\n",
      " datetime.datetime(2016, 7, 28, 1, 0) datetime.datetime(2016, 7, 28, 1, 0)\n",
      " datetime.datetime(2016, 7, 28, 1, 0) datetime.datetime(2016, 7, 28, 1, 0)\n",
      " datetime.datetime(2016, 7, 28, 1, 0) datetime.datetime(2016, 7, 28, 1, 0)\n",
      " datetime.datetime(2016, 7, 28, 1, 0) datetime.datetime(2016, 7, 28, 1, 0)\n",
      " datetime.datetime(2016, 7, 28, 1, 0) datetime.datetime(2016, 7, 28, 1, 0)\n",
      " datetime.datetime(2016, 7, 28, 1, 0) datetime.datetime(2016, 7, 28, 1, 0)\n",
      " datetime.datetime(2016, 7, 28, 1, 0) datetime.datetime(2016, 7, 28, 1, 0)\n",
      " datetime.datetime(2016, 7, 28, 1, 0) datetime.datetime(2016, 7, 28, 1, 0)\n",
      " datetime.datetime(2016, 7, 28, 1, 0) datetime.datetime(2016, 7, 28, 1, 0)\n",
      " datetime.datetime(2016, 7, 28, 1, 0) datetime.datetime(2016, 7, 28, 1, 0)\n",
      " datetime.datetime(2016, 7, 28, 1, 0) datetime.datetime(2016, 7, 28, 1, 0)\n",
      " datetime.datetime(2016, 7, 28, 1, 0) datetime.datetime(2016, 7, 28, 1, 0)\n",
      " datetime.datetime(2016, 7, 28, 1, 0) datetime.datetime(2016, 7, 28, 1, 0)\n",
      " datetime.datetime(2016, 7, 28, 1, 0) datetime.datetime(2016, 7, 28, 1, 0)\n",
      " datetime.datetime(2016, 7, 28, 1, 0) datetime.datetime(2016, 7, 28, 1, 0)\n",
      " datetime.datetime(2016, 7, 28, 1, 0) datetime.datetime(2016, 7, 28, 1, 0)\n",
      " datetime.datetime(2016, 7, 28, 1, 0) datetime.datetime(2016, 7, 28, 1, 0)\n",
      " datetime.datetime(2016, 7, 28, 1, 0) datetime.datetime(2016, 7, 28, 1, 0)\n",
      " datetime.datetime(2016, 7, 28, 1, 0) datetime.datetime(2016, 7, 28, 1, 0)\n",
      " datetime.datetime(2016, 7, 28, 1, 0) datetime.datetime(2016, 7, 28, 1, 0)\n",
      " datetime.datetime(2016, 7, 28, 1, 0) datetime.datetime(2016, 7, 28, 1, 0)\n",
      " datetime.datetime(2016, 7, 28, 1, 0) datetime.datetime(2016, 7, 28, 1, 0)\n",
      " datetime.datetime(2016, 7, 28, 1, 0) datetime.datetime(2016, 7, 28, 1, 0)\n",
      " datetime.datetime(2016, 7, 28, 1, 0) datetime.datetime(2016, 7, 28, 1, 0)\n",
      " datetime.datetime(2016, 7, 28, 1, 0) datetime.datetime(2016, 7, 28, 1, 0)\n",
      " datetime.datetime(2016, 7, 28, 1, 0) datetime.datetime(2016, 7, 28, 1, 0)\n",
      " datetime.datetime(2016, 7, 28, 1, 0) datetime.datetime(2016, 7, 28, 1, 0)\n",
      " datetime.datetime(2016, 7, 28, 1, 0) datetime.datetime(2016, 7, 28, 1, 0)\n",
      " datetime.datetime(2016, 7, 28, 1, 0) datetime.datetime(2016, 7, 28, 1, 0)\n",
      " datetime.datetime(2016, 7, 28, 1, 0) datetime.datetime(2016, 7, 28, 1, 0)\n",
      " datetime.datetime(2016, 7, 28, 1, 0) datetime.datetime(2016, 7, 28, 1, 0)\n",
      " datetime.datetime(2016, 7, 28, 1, 0) datetime.datetime(2016, 7, 28, 1, 0)\n",
      " datetime.datetime(2016, 7, 28, 1, 0) datetime.datetime(2016, 7, 28, 1, 0)\n",
      " datetime.datetime(2016, 7, 28, 1, 0) datetime.datetime(2016, 7, 28, 1, 0)\n",
      " datetime.datetime(2016, 7, 28, 1, 0) datetime.datetime(2016, 7, 28, 1, 0)\n",
      " datetime.datetime(2016, 7, 28, 1, 0) datetime.datetime(2016, 7, 28, 1, 0)\n",
      " datetime.datetime(2016, 7, 28, 1, 0) datetime.datetime(2016, 7, 28, 1, 0)\n",
      " datetime.datetime(2016, 7, 28, 1, 0) datetime.datetime(2016, 7, 28, 1, 0)\n",
      " datetime.datetime(2016, 7, 28, 1, 0) datetime.datetime(2016, 7, 28, 1, 0)\n",
      " datetime.datetime(2016, 7, 28, 1, 0) datetime.datetime(2016, 7, 28, 1, 0)\n",
      " datetime.datetime(2016, 7, 28, 1, 0) datetime.datetime(2016, 7, 28, 1, 0)\n",
      " datetime.datetime(2016, 7, 28, 1, 0) datetime.datetime(2016, 7, 28, 1, 0)\n",
      " datetime.datetime(2016, 7, 28, 1, 0) datetime.datetime(2016, 7, 28, 1, 0)\n",
      " datetime.datetime(2016, 7, 28, 1, 0) datetime.datetime(2016, 7, 28, 1, 0)\n",
      " datetime.datetime(2016, 7, 28, 1, 0) datetime.datetime(2016, 7, 28, 1, 0)\n",
      " datetime.datetime(2016, 7, 28, 1, 0) datetime.datetime(2016, 7, 28, 1, 0)\n",
      " datetime.datetime(2016, 7, 28, 1, 0) datetime.datetime(2016, 7, 28, 1, 0)\n",
      " datetime.datetime(2016, 7, 28, 1, 0) datetime.datetime(2016, 7, 28, 1, 0)\n",
      " datetime.datetime(2016, 7, 28, 1, 0) datetime.datetime(2016, 7, 28, 1, 0)\n",
      " datetime.datetime(2016, 7, 28, 1, 0) datetime.datetime(2016, 7, 28, 1, 0)\n",
      " datetime.datetime(2016, 7, 28, 1, 0) datetime.datetime(2016, 7, 28, 1, 0)\n",
      " datetime.datetime(2016, 7, 28, 1, 0) datetime.datetime(2016, 7, 28, 1, 0)\n",
      " datetime.datetime(2016, 7, 28, 1, 0) datetime.datetime(2016, 7, 28, 1, 0)\n",
      " datetime.datetime(2016, 7, 28, 1, 0) datetime.datetime(2016, 7, 28, 1, 0)\n",
      " datetime.datetime(2016, 7, 28, 1, 0) datetime.datetime(2016, 7, 28, 1, 0)\n",
      " datetime.datetime(2016, 7, 28, 1, 0) datetime.datetime(2016, 7, 28, 1, 0)\n",
      " datetime.datetime(2016, 7, 28, 1, 0) datetime.datetime(2016, 7, 28, 1, 0)\n",
      " datetime.datetime(2016, 7, 28, 1, 0) datetime.datetime(2016, 7, 28, 1, 0)\n",
      " datetime.datetime(2016, 7, 28, 1, 0) datetime.datetime(2016, 7, 28, 1, 0)\n",
      " datetime.datetime(2016, 7, 28, 1, 0) datetime.datetime(2016, 7, 28, 1, 0)\n",
      " datetime.datetime(2016, 7, 28, 1, 0) datetime.datetime(2016, 7, 28, 1, 0)\n",
      " datetime.datetime(2016, 7, 28, 1, 0) datetime.datetime(2016, 7, 28, 1, 0)\n",
      " datetime.datetime(2016, 7, 28, 1, 0) datetime.datetime(2016, 7, 28, 1, 0)\n",
      " datetime.datetime(2016, 7, 28, 1, 0) datetime.datetime(2016, 7, 28, 1, 0)\n",
      " datetime.datetime(2016, 7, 28, 1, 0) datetime.datetime(2016, 7, 28, 1, 0)\n",
      " datetime.datetime(2016, 7, 28, 1, 0) datetime.datetime(2016, 7, 28, 1, 0)\n",
      " datetime.datetime(2016, 7, 28, 1, 0) datetime.datetime(2016, 7, 28, 1, 0)\n",
      " datetime.datetime(2016, 7, 28, 1, 0) datetime.datetime(2016, 7, 28, 1, 0)\n",
      " datetime.datetime(2016, 7, 28, 1, 0) datetime.datetime(2016, 7, 28, 1, 0)\n",
      " datetime.datetime(2016, 7, 28, 1, 0) datetime.datetime(2016, 7, 28, 1, 0)\n",
      " datetime.datetime(2016, 7, 28, 1, 0) datetime.datetime(2016, 7, 28, 1, 0)\n",
      " datetime.datetime(2016, 7, 28, 1, 0) datetime.datetime(2016, 7, 28, 1, 0)\n",
      " datetime.datetime(2016, 7, 28, 1, 0) datetime.datetime(2016, 7, 28, 1, 0)\n",
      " datetime.datetime(2016, 7, 28, 1, 0) datetime.datetime(2016, 7, 28, 1, 0)\n",
      " datetime.datetime(2016, 7, 28, 1, 0) datetime.datetime(2016, 7, 28, 1, 0)\n",
      " datetime.datetime(2016, 7, 28, 1, 0) datetime.datetime(2016, 7, 28, 1, 0)\n",
      " datetime.datetime(2016, 7, 28, 1, 0) datetime.datetime(2016, 7, 28, 1, 0)\n",
      " datetime.datetime(2016, 7, 28, 1, 0) datetime.datetime(2016, 7, 28, 1, 0)\n",
      " datetime.datetime(2016, 7, 28, 1, 0) datetime.datetime(2016, 7, 28, 1, 0)\n",
      " datetime.datetime(2016, 7, 28, 1, 0) datetime.datetime(2016, 7, 28, 1, 0)\n",
      " datetime.datetime(2016, 7, 28, 1, 0) datetime.datetime(2016, 7, 28, 1, 0)\n",
      " datetime.datetime(2016, 7, 28, 1, 0) datetime.datetime(2016, 7, 28, 1, 0)\n",
      " datetime.datetime(2016, 7, 28, 1, 0) datetime.datetime(2016, 7, 28, 1, 0)\n",
      " datetime.datetime(2016, 7, 28, 1, 0) datetime.datetime(2016, 7, 28, 1, 0)\n",
      " datetime.datetime(2016, 7, 28, 1, 0) datetime.datetime(2016, 7, 28, 1, 0)\n",
      " datetime.datetime(2016, 7, 28, 1, 0) datetime.datetime(2016, 7, 28, 1, 0)\n",
      " datetime.datetime(2016, 7, 28, 1, 0) datetime.datetime(2016, 7, 28, 1, 0)\n",
      " datetime.datetime(2016, 7, 28, 1, 0) datetime.datetime(2016, 7, 28, 1, 0)\n",
      " datetime.datetime(2016, 7, 28, 1, 0) datetime.datetime(2016, 7, 28, 1, 0)\n",
      " datetime.datetime(2016, 7, 28, 1, 0) datetime.datetime(2016, 7, 28, 1, 0)\n",
      " datetime.datetime(2016, 7, 28, 1, 0) datetime.datetime(2016, 7, 28, 1, 0)\n",
      " datetime.datetime(2016, 7, 28, 1, 0) datetime.datetime(2016, 7, 28, 1, 0)\n",
      " datetime.datetime(2016, 7, 28, 1, 0) datetime.datetime(2016, 7, 28, 1, 0)\n",
      " datetime.datetime(2016, 7, 28, 1, 0) datetime.datetime(2016, 7, 28, 1, 0)]\n"
     ]
    }
   ],
   "source": [
    "time_unit = ozone_data2.variables['time'].getncattr('units') \n",
    "time_cal = ozone_data2.variables['time'].getncattr('calendar') \n",
    "local_time = nc.num2date(time1, units=time_unit, calendar=time_cal)\n",
    "print(\"Original time %s is now converted as %s\" %(timei[0], local_time[0]))"
   ]
  },
  {
   "cell_type": "code",
   "execution_count": 93,
   "metadata": {},
   "outputs": [
    {
     "data": {
      "text/plain": [
       "masked_array(\n",
       "  data=[[  0.9375,   2.8125,   4.6875, ..., 355.3125, 357.1875, 359.0625],\n",
       "        [  0.9375,   2.8125,   4.6875, ..., 355.3125, 357.1875, 359.0625],\n",
       "        [  0.9375,   2.8125,   4.6875, ..., 355.3125, 357.1875, 359.0625],\n",
       "        ...,\n",
       "        [  0.9375,   2.8125,   4.6875, ..., 355.3125, 357.1875, 359.0625],\n",
       "        [  0.9375,   2.8125,   4.6875, ..., 355.3125, 357.1875, 359.0625],\n",
       "        [  0.9375,   2.8125,   4.6875, ..., 355.3125, 357.1875, 359.0625]],\n",
       "  mask=False,\n",
       "  fill_value=1e+20,\n",
       "  dtype=float32)"
      ]
     },
     "execution_count": 93,
     "metadata": {},
     "output_type": "execute_result"
    }
   ],
   "source": [
    "lon1,time1 = np.meshgrid(loni, local_time)\n",
    "time1\n",
    "lon1"
   ]
  },
  {
   "cell_type": "code",
   "execution_count": null,
   "metadata": {},
   "outputs": [],
   "source": []
  },
  {
   "cell_type": "code",
   "execution_count": null,
   "metadata": {},
   "outputs": [],
   "source": []
  },
  {
   "cell_type": "code",
   "execution_count": null,
   "metadata": {},
   "outputs": [],
   "source": []
  },
  {
   "cell_type": "code",
   "execution_count": null,
   "metadata": {},
   "outputs": [],
   "source": [
    "ax = fig.add_axes([left, bottom, width, height]) \n"
   ]
  },
  {
   "cell_type": "code",
   "execution_count": 96,
   "metadata": {},
   "outputs": [
    {
     "ename": "TypeError",
     "evalue": "Shape of x does not match that of z: found (119616, 192) instead of (623, 144).",
     "output_type": "error",
     "traceback": [
      "\u001b[0;31m---------------------------------------------------------------------------\u001b[0m",
      "\u001b[0;31mTypeError\u001b[0m                                 Traceback (most recent call last)",
      "\u001b[0;32m<ipython-input-96-7fd4e38a60f2>\u001b[0m in \u001b[0;36m<module>\u001b[0;34m\u001b[0m\n\u001b[0;32m----> 1\u001b[0;31m \u001b[0mplt\u001b[0m\u001b[0;34m.\u001b[0m\u001b[0mcontourf\u001b[0m\u001b[0;34m(\u001b[0m\u001b[0mtime1\u001b[0m\u001b[0;34m,\u001b[0m \u001b[0mlon1\u001b[0m\u001b[0;34m,\u001b[0m \u001b[0mo3_2\u001b[0m\u001b[0;34m[\u001b[0m\u001b[0;34m:\u001b[0m\u001b[0;34m,\u001b[0m\u001b[0;34m:\u001b[0m\u001b[0;34m,\u001b[0m\u001b[0;36m0\u001b[0m\u001b[0;34m]\u001b[0m\u001b[0;34m)\u001b[0m\u001b[0;34m\u001b[0m\u001b[0;34m\u001b[0m\u001b[0m\n\u001b[0m",
      "\u001b[0;32m~/.conda/envs/test/lib/python3.7/site-packages/matplotlib/pyplot.py\u001b[0m in \u001b[0;36mcontourf\u001b[0;34m(data, *args, **kwargs)\u001b[0m\n\u001b[1;32m   2528\u001b[0m     __ret = gca().contourf(\n\u001b[1;32m   2529\u001b[0m         \u001b[0;34m*\u001b[0m\u001b[0margs\u001b[0m\u001b[0;34m,\u001b[0m \u001b[0;34m**\u001b[0m\u001b[0;34m(\u001b[0m\u001b[0;34m{\u001b[0m\u001b[0;34m\"data\"\u001b[0m\u001b[0;34m:\u001b[0m \u001b[0mdata\u001b[0m\u001b[0;34m}\u001b[0m \u001b[0;32mif\u001b[0m \u001b[0mdata\u001b[0m \u001b[0;32mis\u001b[0m \u001b[0;32mnot\u001b[0m \u001b[0;32mNone\u001b[0m \u001b[0;32melse\u001b[0m \u001b[0;34m{\u001b[0m\u001b[0;34m}\u001b[0m\u001b[0;34m)\u001b[0m\u001b[0;34m,\u001b[0m\u001b[0;34m\u001b[0m\u001b[0;34m\u001b[0m\u001b[0m\n\u001b[0;32m-> 2530\u001b[0;31m         **kwargs)\n\u001b[0m\u001b[1;32m   2531\u001b[0m     \u001b[0;32mif\u001b[0m \u001b[0m__ret\u001b[0m\u001b[0;34m.\u001b[0m\u001b[0m_A\u001b[0m \u001b[0;32mis\u001b[0m \u001b[0;32mnot\u001b[0m \u001b[0;32mNone\u001b[0m\u001b[0;34m:\u001b[0m \u001b[0msci\u001b[0m\u001b[0;34m(\u001b[0m\u001b[0m__ret\u001b[0m\u001b[0;34m)\u001b[0m  \u001b[0;31m# noqa\u001b[0m\u001b[0;34m\u001b[0m\u001b[0;34m\u001b[0m\u001b[0m\n\u001b[1;32m   2532\u001b[0m     \u001b[0;32mreturn\u001b[0m \u001b[0m__ret\u001b[0m\u001b[0;34m\u001b[0m\u001b[0;34m\u001b[0m\u001b[0m\n",
      "\u001b[0;32m~/.conda/envs/test/lib/python3.7/site-packages/matplotlib/__init__.py\u001b[0m in \u001b[0;36minner\u001b[0;34m(ax, data, *args, **kwargs)\u001b[0m\n\u001b[1;32m   1599\u001b[0m     \u001b[0;32mdef\u001b[0m \u001b[0minner\u001b[0m\u001b[0;34m(\u001b[0m\u001b[0max\u001b[0m\u001b[0;34m,\u001b[0m \u001b[0;34m*\u001b[0m\u001b[0margs\u001b[0m\u001b[0;34m,\u001b[0m \u001b[0mdata\u001b[0m\u001b[0;34m=\u001b[0m\u001b[0;32mNone\u001b[0m\u001b[0;34m,\u001b[0m \u001b[0;34m**\u001b[0m\u001b[0mkwargs\u001b[0m\u001b[0;34m)\u001b[0m\u001b[0;34m:\u001b[0m\u001b[0;34m\u001b[0m\u001b[0;34m\u001b[0m\u001b[0m\n\u001b[1;32m   1600\u001b[0m         \u001b[0;32mif\u001b[0m \u001b[0mdata\u001b[0m \u001b[0;32mis\u001b[0m \u001b[0;32mNone\u001b[0m\u001b[0;34m:\u001b[0m\u001b[0;34m\u001b[0m\u001b[0;34m\u001b[0m\u001b[0m\n\u001b[0;32m-> 1601\u001b[0;31m             \u001b[0;32mreturn\u001b[0m \u001b[0mfunc\u001b[0m\u001b[0;34m(\u001b[0m\u001b[0max\u001b[0m\u001b[0;34m,\u001b[0m \u001b[0;34m*\u001b[0m\u001b[0mmap\u001b[0m\u001b[0;34m(\u001b[0m\u001b[0msanitize_sequence\u001b[0m\u001b[0;34m,\u001b[0m \u001b[0margs\u001b[0m\u001b[0;34m)\u001b[0m\u001b[0;34m,\u001b[0m \u001b[0;34m**\u001b[0m\u001b[0mkwargs\u001b[0m\u001b[0;34m)\u001b[0m\u001b[0;34m\u001b[0m\u001b[0;34m\u001b[0m\u001b[0m\n\u001b[0m\u001b[1;32m   1602\u001b[0m \u001b[0;34m\u001b[0m\u001b[0m\n\u001b[1;32m   1603\u001b[0m         \u001b[0mbound\u001b[0m \u001b[0;34m=\u001b[0m \u001b[0mnew_sig\u001b[0m\u001b[0;34m.\u001b[0m\u001b[0mbind\u001b[0m\u001b[0;34m(\u001b[0m\u001b[0max\u001b[0m\u001b[0;34m,\u001b[0m \u001b[0;34m*\u001b[0m\u001b[0margs\u001b[0m\u001b[0;34m,\u001b[0m \u001b[0;34m**\u001b[0m\u001b[0mkwargs\u001b[0m\u001b[0;34m)\u001b[0m\u001b[0;34m\u001b[0m\u001b[0;34m\u001b[0m\u001b[0m\n",
      "\u001b[0;32m~/.conda/envs/test/lib/python3.7/site-packages/matplotlib/axes/_axes.py\u001b[0m in \u001b[0;36mcontourf\u001b[0;34m(self, *args, **kwargs)\u001b[0m\n\u001b[1;32m   6420\u001b[0m     \u001b[0;32mdef\u001b[0m \u001b[0mcontourf\u001b[0m\u001b[0;34m(\u001b[0m\u001b[0mself\u001b[0m\u001b[0;34m,\u001b[0m \u001b[0;34m*\u001b[0m\u001b[0margs\u001b[0m\u001b[0;34m,\u001b[0m \u001b[0;34m**\u001b[0m\u001b[0mkwargs\u001b[0m\u001b[0;34m)\u001b[0m\u001b[0;34m:\u001b[0m\u001b[0;34m\u001b[0m\u001b[0;34m\u001b[0m\u001b[0m\n\u001b[1;32m   6421\u001b[0m         \u001b[0mkwargs\u001b[0m\u001b[0;34m[\u001b[0m\u001b[0;34m'filled'\u001b[0m\u001b[0;34m]\u001b[0m \u001b[0;34m=\u001b[0m \u001b[0;32mTrue\u001b[0m\u001b[0;34m\u001b[0m\u001b[0;34m\u001b[0m\u001b[0m\n\u001b[0;32m-> 6422\u001b[0;31m         \u001b[0mcontours\u001b[0m \u001b[0;34m=\u001b[0m \u001b[0mmcontour\u001b[0m\u001b[0;34m.\u001b[0m\u001b[0mQuadContourSet\u001b[0m\u001b[0;34m(\u001b[0m\u001b[0mself\u001b[0m\u001b[0;34m,\u001b[0m \u001b[0;34m*\u001b[0m\u001b[0margs\u001b[0m\u001b[0;34m,\u001b[0m \u001b[0;34m**\u001b[0m\u001b[0mkwargs\u001b[0m\u001b[0;34m)\u001b[0m\u001b[0;34m\u001b[0m\u001b[0;34m\u001b[0m\u001b[0m\n\u001b[0m\u001b[1;32m   6423\u001b[0m         \u001b[0mself\u001b[0m\u001b[0;34m.\u001b[0m\u001b[0mautoscale_view\u001b[0m\u001b[0;34m(\u001b[0m\u001b[0;34m)\u001b[0m\u001b[0;34m\u001b[0m\u001b[0;34m\u001b[0m\u001b[0m\n\u001b[1;32m   6424\u001b[0m         \u001b[0;32mreturn\u001b[0m \u001b[0mcontours\u001b[0m\u001b[0;34m\u001b[0m\u001b[0;34m\u001b[0m\u001b[0m\n",
      "\u001b[0;32m~/.conda/envs/test/lib/python3.7/site-packages/matplotlib/contour.py\u001b[0m in \u001b[0;36m__init__\u001b[0;34m(self, ax, levels, filled, linewidths, linestyles, alpha, origin, extent, cmap, colors, norm, vmin, vmax, extend, antialiased, *args, **kwargs)\u001b[0m\n\u001b[1;32m    853\u001b[0m         \u001b[0mself\u001b[0m\u001b[0;34m.\u001b[0m\u001b[0m_transform\u001b[0m \u001b[0;34m=\u001b[0m \u001b[0mkwargs\u001b[0m\u001b[0;34m.\u001b[0m\u001b[0mpop\u001b[0m\u001b[0;34m(\u001b[0m\u001b[0;34m'transform'\u001b[0m\u001b[0;34m,\u001b[0m \u001b[0;32mNone\u001b[0m\u001b[0;34m)\u001b[0m\u001b[0;34m\u001b[0m\u001b[0;34m\u001b[0m\u001b[0m\n\u001b[1;32m    854\u001b[0m \u001b[0;34m\u001b[0m\u001b[0m\n\u001b[0;32m--> 855\u001b[0;31m         \u001b[0mkwargs\u001b[0m \u001b[0;34m=\u001b[0m \u001b[0mself\u001b[0m\u001b[0;34m.\u001b[0m\u001b[0m_process_args\u001b[0m\u001b[0;34m(\u001b[0m\u001b[0;34m*\u001b[0m\u001b[0margs\u001b[0m\u001b[0;34m,\u001b[0m \u001b[0;34m**\u001b[0m\u001b[0mkwargs\u001b[0m\u001b[0;34m)\u001b[0m\u001b[0;34m\u001b[0m\u001b[0;34m\u001b[0m\u001b[0m\n\u001b[0m\u001b[1;32m    856\u001b[0m         \u001b[0mself\u001b[0m\u001b[0;34m.\u001b[0m\u001b[0m_process_levels\u001b[0m\u001b[0;34m(\u001b[0m\u001b[0;34m)\u001b[0m\u001b[0;34m\u001b[0m\u001b[0;34m\u001b[0m\u001b[0m\n\u001b[1;32m    857\u001b[0m \u001b[0;34m\u001b[0m\u001b[0m\n",
      "\u001b[0;32m~/.conda/envs/test/lib/python3.7/site-packages/matplotlib/contour.py\u001b[0m in \u001b[0;36m_process_args\u001b[0;34m(self, *args, **kwargs)\u001b[0m\n\u001b[1;32m   1454\u001b[0m                 \u001b[0mself\u001b[0m\u001b[0;34m.\u001b[0m\u001b[0m_corner_mask\u001b[0m \u001b[0;34m=\u001b[0m \u001b[0mmpl\u001b[0m\u001b[0;34m.\u001b[0m\u001b[0mrcParams\u001b[0m\u001b[0;34m[\u001b[0m\u001b[0;34m'contour.corner_mask'\u001b[0m\u001b[0;34m]\u001b[0m\u001b[0;34m\u001b[0m\u001b[0;34m\u001b[0m\u001b[0m\n\u001b[1;32m   1455\u001b[0m \u001b[0;34m\u001b[0m\u001b[0m\n\u001b[0;32m-> 1456\u001b[0;31m             \u001b[0mx\u001b[0m\u001b[0;34m,\u001b[0m \u001b[0my\u001b[0m\u001b[0;34m,\u001b[0m \u001b[0mz\u001b[0m \u001b[0;34m=\u001b[0m \u001b[0mself\u001b[0m\u001b[0;34m.\u001b[0m\u001b[0m_contour_args\u001b[0m\u001b[0;34m(\u001b[0m\u001b[0margs\u001b[0m\u001b[0;34m,\u001b[0m \u001b[0mkwargs\u001b[0m\u001b[0;34m)\u001b[0m\u001b[0;34m\u001b[0m\u001b[0;34m\u001b[0m\u001b[0m\n\u001b[0m\u001b[1;32m   1457\u001b[0m \u001b[0;34m\u001b[0m\u001b[0m\n\u001b[1;32m   1458\u001b[0m             \u001b[0m_mask\u001b[0m \u001b[0;34m=\u001b[0m \u001b[0mma\u001b[0m\u001b[0;34m.\u001b[0m\u001b[0mgetmask\u001b[0m\u001b[0;34m(\u001b[0m\u001b[0mz\u001b[0m\u001b[0;34m)\u001b[0m\u001b[0;34m\u001b[0m\u001b[0;34m\u001b[0m\u001b[0m\n",
      "\u001b[0;32m~/.conda/envs/test/lib/python3.7/site-packages/matplotlib/contour.py\u001b[0m in \u001b[0;36m_contour_args\u001b[0;34m(self, args, kwargs)\u001b[0m\n\u001b[1;32m   1512\u001b[0m             \u001b[0margs\u001b[0m \u001b[0;34m=\u001b[0m \u001b[0margs\u001b[0m\u001b[0;34m[\u001b[0m\u001b[0;36m1\u001b[0m\u001b[0;34m:\u001b[0m\u001b[0;34m]\u001b[0m\u001b[0;34m\u001b[0m\u001b[0;34m\u001b[0m\u001b[0m\n\u001b[1;32m   1513\u001b[0m         \u001b[0;32melif\u001b[0m \u001b[0mNargs\u001b[0m \u001b[0;34m<=\u001b[0m \u001b[0;36m4\u001b[0m\u001b[0;34m:\u001b[0m\u001b[0;34m\u001b[0m\u001b[0;34m\u001b[0m\u001b[0m\n\u001b[0;32m-> 1514\u001b[0;31m             \u001b[0mx\u001b[0m\u001b[0;34m,\u001b[0m \u001b[0my\u001b[0m\u001b[0;34m,\u001b[0m \u001b[0mz\u001b[0m \u001b[0;34m=\u001b[0m \u001b[0mself\u001b[0m\u001b[0;34m.\u001b[0m\u001b[0m_check_xyz\u001b[0m\u001b[0;34m(\u001b[0m\u001b[0margs\u001b[0m\u001b[0;34m[\u001b[0m\u001b[0;34m:\u001b[0m\u001b[0;36m3\u001b[0m\u001b[0;34m]\u001b[0m\u001b[0;34m,\u001b[0m \u001b[0mkwargs\u001b[0m\u001b[0;34m)\u001b[0m\u001b[0;34m\u001b[0m\u001b[0;34m\u001b[0m\u001b[0m\n\u001b[0m\u001b[1;32m   1515\u001b[0m             \u001b[0margs\u001b[0m \u001b[0;34m=\u001b[0m \u001b[0margs\u001b[0m\u001b[0;34m[\u001b[0m\u001b[0;36m3\u001b[0m\u001b[0;34m:\u001b[0m\u001b[0;34m]\u001b[0m\u001b[0;34m\u001b[0m\u001b[0;34m\u001b[0m\u001b[0m\n\u001b[1;32m   1516\u001b[0m         \u001b[0;32melse\u001b[0m\u001b[0;34m:\u001b[0m\u001b[0;34m\u001b[0m\u001b[0;34m\u001b[0m\u001b[0m\n",
      "\u001b[0;32m~/.conda/envs/test/lib/python3.7/site-packages/matplotlib/contour.py\u001b[0m in \u001b[0;36m_check_xyz\u001b[0;34m(self, args, kwargs)\u001b[0m\n\u001b[1;32m   1573\u001b[0m             \u001b[0;32mif\u001b[0m \u001b[0mx\u001b[0m\u001b[0;34m.\u001b[0m\u001b[0mshape\u001b[0m \u001b[0;34m!=\u001b[0m \u001b[0mz\u001b[0m\u001b[0;34m.\u001b[0m\u001b[0mshape\u001b[0m\u001b[0;34m:\u001b[0m\u001b[0;34m\u001b[0m\u001b[0;34m\u001b[0m\u001b[0m\n\u001b[1;32m   1574\u001b[0m                 raise TypeError(\"Shape of x does not match that of z: found \"\n\u001b[0;32m-> 1575\u001b[0;31m                                 \"{0} instead of {1}.\".format(x.shape, z.shape))\n\u001b[0m\u001b[1;32m   1576\u001b[0m \u001b[0;34m\u001b[0m\u001b[0m\n\u001b[1;32m   1577\u001b[0m             \u001b[0;32mif\u001b[0m \u001b[0my\u001b[0m\u001b[0;34m.\u001b[0m\u001b[0mshape\u001b[0m \u001b[0;34m!=\u001b[0m \u001b[0mz\u001b[0m\u001b[0;34m.\u001b[0m\u001b[0mshape\u001b[0m\u001b[0;34m:\u001b[0m\u001b[0;34m\u001b[0m\u001b[0;34m\u001b[0m\u001b[0m\n",
      "\u001b[0;31mTypeError\u001b[0m: Shape of x does not match that of z: found (119616, 192) instead of (623, 144)."
     ]
    },
    {
     "data": {
      "image/png": "[encoded data removed]",
      "text/plain": [
       "<Figure size 432x288 with 1 Axes>"
      ]
     },
     "metadata": {
      "needs_background": "light"
     },
     "output_type": "display_data"
    }
   ],
   "source": [
    "\n",
    "\n",
    "plt.contourf(time1, lon1, o3_2[:,:,0])\n"
   ]
  },
  {
   "cell_type": "code",
   "execution_count": null,
   "metadata": {},
   "outputs": [],
   "source": []
  },
  {
   "cell_type": "code",
   "execution_count": null,
   "metadata": {},
   "outputs": [],
   "source": []
  },
  {
   "cell_type": "code",
   "execution_count": null,
   "metadata": {},
   "outputs": [],
   "source": []
  },
  {
   "cell_type": "code",
   "execution_count": null,
   "metadata": {},
   "outputs": [],
   "source": []
  },
  {
   "cell_type": "code",
   "execution_count": null,
   "metadata": {},
   "outputs": [],
   "source": []
  },
  {
   "cell_type": "code",
   "execution_count": null,
   "metadata": {},
   "outputs": [],
   "source": []
  },
  {
   "cell_type": "code",
   "execution_count": null,
   "metadata": {},
   "outputs": [],
   "source": []
  },
  {
   "cell_type": "markdown",
   "metadata": {},
   "source": [
    "# Vertical profile"
   ]
  },
  {
   "cell_type": "code",
   "execution_count": null,
   "metadata": {},
   "outputs": [],
   "source": [
    "#needs pressure/altitude data?"
   ]
  },
  {
   "cell_type": "code",
   "execution_count": null,
   "metadata": {},
   "outputs": [],
   "source": []
  },
  {
   "cell_type": "code",
   "execution_count": null,
   "metadata": {},
   "outputs": [],
   "source": []
  },
  {
   "cell_type": "code",
   "execution_count": null,
   "metadata": {},
   "outputs": [],
   "source": []
  },
  {
   "cell_type": "code",
   "execution_count": null,
   "metadata": {},
   "outputs": [],
   "source": []
  }
 ],
 "metadata": {
  "kernelspec": {
   "display_name": "Python 3",
   "language": "python",
   "name": "python3"
  },
  "language_info": {
   "codemirror_mode": {
    "name": "ipython",
    "version": 3
   },
   "file_extension": ".py",
   "mimetype": "text/x-python",
   "name": "python",
   "nbconvert_exporter": "python",
   "pygments_lexer": "ipython3",
   "version": "3.7.3"
  }
 },
 "nbformat": 4,
 "nbformat_minor": 2
}
